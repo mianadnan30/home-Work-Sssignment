{
 "cells": [
  {
   "cell_type": "code",
   "execution_count": 14,
   "metadata": {},
   "outputs": [],
   "source": [
    "import pandas as pd\n",
    "import numpy as np\n",
    "import seaborn as sb\n",
    "import sklearn\n",
    "\n",
    "import pandas as pd\n",
    "df = pd.read_csv(\"company_sales.csv\", delimiter = \";\")\n"
   ]
  },
  {
   "cell_type": "code",
   "execution_count": 15,
   "metadata": {},
   "outputs": [
    {
     "data": {
      "text/html": [
       "<div>\n",
       "<style scoped>\n",
       "    .dataframe tbody tr th:only-of-type {\n",
       "        vertical-align: middle;\n",
       "    }\n",
       "\n",
       "    .dataframe tbody tr th {\n",
       "        vertical-align: top;\n",
       "    }\n",
       "\n",
       "    .dataframe thead th {\n",
       "        text-align: right;\n",
       "    }\n",
       "</style>\n",
       "<table border=\"1\" class=\"dataframe\">\n",
       "  <thead>\n",
       "    <tr style=\"text-align: right;\">\n",
       "      <th></th>\n",
       "      <th>Name Surname</th>\n",
       "      <th>ID</th>\n",
       "      <th>Total Profit</th>\n",
       "      <th>Product Profit</th>\n",
       "      <th>P1</th>\n",
       "      <th>P2</th>\n",
       "      <th>P3</th>\n",
       "      <th>P4</th>\n",
       "      <th>P5</th>\n",
       "      <th>P6</th>\n",
       "      <th>...</th>\n",
       "      <th>P11</th>\n",
       "      <th>P12</th>\n",
       "      <th>P13</th>\n",
       "      <th>P14</th>\n",
       "      <th>P15</th>\n",
       "      <th>P16</th>\n",
       "      <th>P17</th>\n",
       "      <th>P18</th>\n",
       "      <th>P19</th>\n",
       "      <th>P20</th>\n",
       "    </tr>\n",
       "  </thead>\n",
       "  <tbody>\n",
       "    <tr>\n",
       "      <td>0</td>\n",
       "      <td>Karoline Deason</td>\n",
       "      <td>1247791</td>\n",
       "      <td>85.0</td>\n",
       "      <td>80</td>\n",
       "      <td>5</td>\n",
       "      <td>2</td>\n",
       "      <td>12</td>\n",
       "      <td>2</td>\n",
       "      <td>2</td>\n",
       "      <td>12</td>\n",
       "      <td>...</td>\n",
       "      <td>5</td>\n",
       "      <td>2</td>\n",
       "      <td>5</td>\n",
       "      <td>7</td>\n",
       "      <td>7</td>\n",
       "      <td>12</td>\n",
       "      <td>5</td>\n",
       "      <td>7</td>\n",
       "      <td>2</td>\n",
       "      <td>7</td>\n",
       "    </tr>\n",
       "    <tr>\n",
       "      <td>1</td>\n",
       "      <td>Xenia Crago</td>\n",
       "      <td>1906020</td>\n",
       "      <td>85.0</td>\n",
       "      <td>65</td>\n",
       "      <td>2</td>\n",
       "      <td>12</td>\n",
       "      <td>7</td>\n",
       "      <td>2</td>\n",
       "      <td>2</td>\n",
       "      <td>12</td>\n",
       "      <td>...</td>\n",
       "      <td>12</td>\n",
       "      <td>2</td>\n",
       "      <td>5</td>\n",
       "      <td>7</td>\n",
       "      <td>7</td>\n",
       "      <td>7</td>\n",
       "      <td>7</td>\n",
       "      <td>5</td>\n",
       "      <td>2</td>\n",
       "      <td>7</td>\n",
       "    </tr>\n",
       "    <tr>\n",
       "      <td>2</td>\n",
       "      <td>France Buterbaugh</td>\n",
       "      <td>1900192</td>\n",
       "      <td>80.0</td>\n",
       "      <td>60</td>\n",
       "      <td>12</td>\n",
       "      <td>12</td>\n",
       "      <td>12</td>\n",
       "      <td>2</td>\n",
       "      <td>5</td>\n",
       "      <td>2</td>\n",
       "      <td>...</td>\n",
       "      <td>7</td>\n",
       "      <td>2</td>\n",
       "      <td>5</td>\n",
       "      <td>7</td>\n",
       "      <td>7</td>\n",
       "      <td>7</td>\n",
       "      <td>2</td>\n",
       "      <td>5</td>\n",
       "      <td>2</td>\n",
       "      <td>7</td>\n",
       "    </tr>\n",
       "    <tr>\n",
       "      <td>3</td>\n",
       "      <td>Lottie Gryder</td>\n",
       "      <td>1907020</td>\n",
       "      <td>85.0</td>\n",
       "      <td>65</td>\n",
       "      <td>7</td>\n",
       "      <td>12</td>\n",
       "      <td>12</td>\n",
       "      <td>2</td>\n",
       "      <td>5</td>\n",
       "      <td>2</td>\n",
       "      <td>...</td>\n",
       "      <td>7</td>\n",
       "      <td>2</td>\n",
       "      <td>5</td>\n",
       "      <td>7</td>\n",
       "      <td>7</td>\n",
       "      <td>12</td>\n",
       "      <td>12</td>\n",
       "      <td>5</td>\n",
       "      <td>2</td>\n",
       "      <td>5</td>\n",
       "    </tr>\n",
       "    <tr>\n",
       "      <td>4</td>\n",
       "      <td>Corie Woodley</td>\n",
       "      <td>1905678</td>\n",
       "      <td>80.0</td>\n",
       "      <td>85</td>\n",
       "      <td>7</td>\n",
       "      <td>12</td>\n",
       "      <td>12</td>\n",
       "      <td>2</td>\n",
       "      <td>2</td>\n",
       "      <td>12</td>\n",
       "      <td>...</td>\n",
       "      <td>5</td>\n",
       "      <td>2</td>\n",
       "      <td>12</td>\n",
       "      <td>7</td>\n",
       "      <td>7</td>\n",
       "      <td>12</td>\n",
       "      <td>7</td>\n",
       "      <td>12</td>\n",
       "      <td>5</td>\n",
       "      <td>5</td>\n",
       "    </tr>\n",
       "  </tbody>\n",
       "</table>\n",
       "<p>5 rows × 24 columns</p>\n",
       "</div>"
      ],
      "text/plain": [
       "        Name Surname       ID  Total Profit  Product Profit  P1  P2  P3  P4  \\\n",
       "0    Karoline Deason  1247791          85.0              80   5   2  12   2   \n",
       "1        Xenia Crago  1906020          85.0              65   2  12   7   2   \n",
       "2  France Buterbaugh  1900192          80.0              60  12  12  12   2   \n",
       "3      Lottie Gryder  1907020          85.0              65   7  12  12   2   \n",
       "4      Corie Woodley  1905678          80.0              85   7  12  12   2   \n",
       "\n",
       "   P5  P6  ...  P11  P12  P13  P14  P15  P16  P17  P18  P19  P20  \n",
       "0   2  12  ...    5    2    5    7    7   12    5    7    2    7  \n",
       "1   2  12  ...   12    2    5    7    7    7    7    5    2    7  \n",
       "2   5   2  ...    7    2    5    7    7    7    2    5    2    7  \n",
       "3   5   2  ...    7    2    5    7    7   12   12    5    2    5  \n",
       "4   2  12  ...    5    2   12    7    7   12    7   12    5    5  \n",
       "\n",
       "[5 rows x 24 columns]"
      ]
     },
     "execution_count": 15,
     "metadata": {},
     "output_type": "execute_result"
    }
   ],
   "source": [
    "df.head()"
   ]
  },
  {
   "cell_type": "code",
   "execution_count": 16,
   "metadata": {},
   "outputs": [
    {
     "data": {
      "text/html": [
       "<div>\n",
       "<style scoped>\n",
       "    .dataframe tbody tr th:only-of-type {\n",
       "        vertical-align: middle;\n",
       "    }\n",
       "\n",
       "    .dataframe tbody tr th {\n",
       "        vertical-align: top;\n",
       "    }\n",
       "\n",
       "    .dataframe thead th {\n",
       "        text-align: right;\n",
       "    }\n",
       "</style>\n",
       "<table border=\"1\" class=\"dataframe\">\n",
       "  <thead>\n",
       "    <tr style=\"text-align: right;\">\n",
       "      <th></th>\n",
       "      <th>Total Profit</th>\n",
       "      <th>Product Profit</th>\n",
       "      <th>P1</th>\n",
       "      <th>P2</th>\n",
       "      <th>P3</th>\n",
       "      <th>P4</th>\n",
       "      <th>P5</th>\n",
       "      <th>P6</th>\n",
       "      <th>P7</th>\n",
       "      <th>P8</th>\n",
       "      <th>...</th>\n",
       "      <th>P11</th>\n",
       "      <th>P12</th>\n",
       "      <th>P13</th>\n",
       "      <th>P14</th>\n",
       "      <th>P15</th>\n",
       "      <th>P16</th>\n",
       "      <th>P17</th>\n",
       "      <th>P18</th>\n",
       "      <th>P19</th>\n",
       "      <th>P20</th>\n",
       "    </tr>\n",
       "  </thead>\n",
       "  <tbody>\n",
       "    <tr>\n",
       "      <td>count</td>\n",
       "      <td>47.000000</td>\n",
       "      <td>53.000000</td>\n",
       "      <td>53.000000</td>\n",
       "      <td>53.000000</td>\n",
       "      <td>53.000000</td>\n",
       "      <td>53.000000</td>\n",
       "      <td>53.000000</td>\n",
       "      <td>53.000000</td>\n",
       "      <td>53.000000</td>\n",
       "      <td>53.000000</td>\n",
       "      <td>...</td>\n",
       "      <td>53.000000</td>\n",
       "      <td>53.000000</td>\n",
       "      <td>53.000000</td>\n",
       "      <td>53.000000</td>\n",
       "      <td>53.000000</td>\n",
       "      <td>53.000000</td>\n",
       "      <td>53.000000</td>\n",
       "      <td>53.000000</td>\n",
       "      <td>53.000000</td>\n",
       "      <td>53.000000</td>\n",
       "    </tr>\n",
       "    <tr>\n",
       "      <td>mean</td>\n",
       "      <td>85.638298</td>\n",
       "      <td>76.603774</td>\n",
       "      <td>7.377358</td>\n",
       "      <td>9.433962</td>\n",
       "      <td>11.528302</td>\n",
       "      <td>2.660377</td>\n",
       "      <td>3.207547</td>\n",
       "      <td>8.811321</td>\n",
       "      <td>3.207547</td>\n",
       "      <td>10.547170</td>\n",
       "      <td>...</td>\n",
       "      <td>6.075472</td>\n",
       "      <td>2.528302</td>\n",
       "      <td>5.358491</td>\n",
       "      <td>7.018868</td>\n",
       "      <td>7.094340</td>\n",
       "      <td>10.867925</td>\n",
       "      <td>6.339623</td>\n",
       "      <td>6.150943</td>\n",
       "      <td>2.113208</td>\n",
       "      <td>5.528302</td>\n",
       "    </tr>\n",
       "    <tr>\n",
       "      <td>std</td>\n",
       "      <td>7.913735</td>\n",
       "      <td>10.997097</td>\n",
       "      <td>3.045971</td>\n",
       "      <td>3.905171</td>\n",
       "      <td>1.475489</td>\n",
       "      <td>1.818108</td>\n",
       "      <td>1.884741</td>\n",
       "      <td>4.565997</td>\n",
       "      <td>2.857907</td>\n",
       "      <td>3.500363</td>\n",
       "      <td>...</td>\n",
       "      <td>2.834194</td>\n",
       "      <td>2.053176</td>\n",
       "      <td>2.038989</td>\n",
       "      <td>0.796400</td>\n",
       "      <td>0.686803</td>\n",
       "      <td>2.112579</td>\n",
       "      <td>1.818108</td>\n",
       "      <td>1.291931</td>\n",
       "      <td>0.577141</td>\n",
       "      <td>1.866751</td>\n",
       "    </tr>\n",
       "    <tr>\n",
       "      <td>min</td>\n",
       "      <td>70.000000</td>\n",
       "      <td>50.000000</td>\n",
       "      <td>2.000000</td>\n",
       "      <td>2.000000</td>\n",
       "      <td>7.000000</td>\n",
       "      <td>2.000000</td>\n",
       "      <td>2.000000</td>\n",
       "      <td>2.000000</td>\n",
       "      <td>2.000000</td>\n",
       "      <td>2.000000</td>\n",
       "      <td>...</td>\n",
       "      <td>2.000000</td>\n",
       "      <td>2.000000</td>\n",
       "      <td>2.000000</td>\n",
       "      <td>5.000000</td>\n",
       "      <td>7.000000</td>\n",
       "      <td>7.000000</td>\n",
       "      <td>2.000000</td>\n",
       "      <td>5.000000</td>\n",
       "      <td>2.000000</td>\n",
       "      <td>2.000000</td>\n",
       "    </tr>\n",
       "    <tr>\n",
       "      <td>25%</td>\n",
       "      <td>80.000000</td>\n",
       "      <td>70.000000</td>\n",
       "      <td>5.000000</td>\n",
       "      <td>5.000000</td>\n",
       "      <td>12.000000</td>\n",
       "      <td>2.000000</td>\n",
       "      <td>2.000000</td>\n",
       "      <td>2.000000</td>\n",
       "      <td>2.000000</td>\n",
       "      <td>12.000000</td>\n",
       "      <td>...</td>\n",
       "      <td>5.000000</td>\n",
       "      <td>2.000000</td>\n",
       "      <td>5.000000</td>\n",
       "      <td>7.000000</td>\n",
       "      <td>7.000000</td>\n",
       "      <td>12.000000</td>\n",
       "      <td>7.000000</td>\n",
       "      <td>5.000000</td>\n",
       "      <td>2.000000</td>\n",
       "      <td>5.000000</td>\n",
       "    </tr>\n",
       "    <tr>\n",
       "      <td>50%</td>\n",
       "      <td>85.000000</td>\n",
       "      <td>80.000000</td>\n",
       "      <td>7.000000</td>\n",
       "      <td>12.000000</td>\n",
       "      <td>12.000000</td>\n",
       "      <td>2.000000</td>\n",
       "      <td>2.000000</td>\n",
       "      <td>12.000000</td>\n",
       "      <td>2.000000</td>\n",
       "      <td>12.000000</td>\n",
       "      <td>...</td>\n",
       "      <td>5.000000</td>\n",
       "      <td>2.000000</td>\n",
       "      <td>5.000000</td>\n",
       "      <td>7.000000</td>\n",
       "      <td>7.000000</td>\n",
       "      <td>12.000000</td>\n",
       "      <td>7.000000</td>\n",
       "      <td>7.000000</td>\n",
       "      <td>2.000000</td>\n",
       "      <td>5.000000</td>\n",
       "    </tr>\n",
       "    <tr>\n",
       "      <td>75%</td>\n",
       "      <td>85.000000</td>\n",
       "      <td>85.000000</td>\n",
       "      <td>7.000000</td>\n",
       "      <td>12.000000</td>\n",
       "      <td>12.000000</td>\n",
       "      <td>2.000000</td>\n",
       "      <td>5.000000</td>\n",
       "      <td>12.000000</td>\n",
       "      <td>2.000000</td>\n",
       "      <td>12.000000</td>\n",
       "      <td>...</td>\n",
       "      <td>7.000000</td>\n",
       "      <td>2.000000</td>\n",
       "      <td>5.000000</td>\n",
       "      <td>7.000000</td>\n",
       "      <td>7.000000</td>\n",
       "      <td>12.000000</td>\n",
       "      <td>7.000000</td>\n",
       "      <td>7.000000</td>\n",
       "      <td>2.000000</td>\n",
       "      <td>7.000000</td>\n",
       "    </tr>\n",
       "    <tr>\n",
       "      <td>max</td>\n",
       "      <td>110.000000</td>\n",
       "      <td>100.000000</td>\n",
       "      <td>12.000000</td>\n",
       "      <td>12.000000</td>\n",
       "      <td>12.000000</td>\n",
       "      <td>12.000000</td>\n",
       "      <td>12.000000</td>\n",
       "      <td>12.000000</td>\n",
       "      <td>12.000000</td>\n",
       "      <td>12.000000</td>\n",
       "      <td>...</td>\n",
       "      <td>12.000000</td>\n",
       "      <td>12.000000</td>\n",
       "      <td>12.000000</td>\n",
       "      <td>12.000000</td>\n",
       "      <td>12.000000</td>\n",
       "      <td>12.000000</td>\n",
       "      <td>12.000000</td>\n",
       "      <td>12.000000</td>\n",
       "      <td>5.000000</td>\n",
       "      <td>12.000000</td>\n",
       "    </tr>\n",
       "  </tbody>\n",
       "</table>\n",
       "<p>8 rows × 22 columns</p>\n",
       "</div>"
      ],
      "text/plain": [
       "       Total Profit  Product Profit         P1         P2         P3  \\\n",
       "count     47.000000       53.000000  53.000000  53.000000  53.000000   \n",
       "mean      85.638298       76.603774   7.377358   9.433962  11.528302   \n",
       "std        7.913735       10.997097   3.045971   3.905171   1.475489   \n",
       "min       70.000000       50.000000   2.000000   2.000000   7.000000   \n",
       "25%       80.000000       70.000000   5.000000   5.000000  12.000000   \n",
       "50%       85.000000       80.000000   7.000000  12.000000  12.000000   \n",
       "75%       85.000000       85.000000   7.000000  12.000000  12.000000   \n",
       "max      110.000000      100.000000  12.000000  12.000000  12.000000   \n",
       "\n",
       "              P4         P5         P6         P7         P8  ...        P11  \\\n",
       "count  53.000000  53.000000  53.000000  53.000000  53.000000  ...  53.000000   \n",
       "mean    2.660377   3.207547   8.811321   3.207547  10.547170  ...   6.075472   \n",
       "std     1.818108   1.884741   4.565997   2.857907   3.500363  ...   2.834194   \n",
       "min     2.000000   2.000000   2.000000   2.000000   2.000000  ...   2.000000   \n",
       "25%     2.000000   2.000000   2.000000   2.000000  12.000000  ...   5.000000   \n",
       "50%     2.000000   2.000000  12.000000   2.000000  12.000000  ...   5.000000   \n",
       "75%     2.000000   5.000000  12.000000   2.000000  12.000000  ...   7.000000   \n",
       "max    12.000000  12.000000  12.000000  12.000000  12.000000  ...  12.000000   \n",
       "\n",
       "             P12        P13        P14        P15        P16        P17  \\\n",
       "count  53.000000  53.000000  53.000000  53.000000  53.000000  53.000000   \n",
       "mean    2.528302   5.358491   7.018868   7.094340  10.867925   6.339623   \n",
       "std     2.053176   2.038989   0.796400   0.686803   2.112579   1.818108   \n",
       "min     2.000000   2.000000   5.000000   7.000000   7.000000   2.000000   \n",
       "25%     2.000000   5.000000   7.000000   7.000000  12.000000   7.000000   \n",
       "50%     2.000000   5.000000   7.000000   7.000000  12.000000   7.000000   \n",
       "75%     2.000000   5.000000   7.000000   7.000000  12.000000   7.000000   \n",
       "max    12.000000  12.000000  12.000000  12.000000  12.000000  12.000000   \n",
       "\n",
       "             P18        P19        P20  \n",
       "count  53.000000  53.000000  53.000000  \n",
       "mean    6.150943   2.113208   5.528302  \n",
       "std     1.291931   0.577141   1.866751  \n",
       "min     5.000000   2.000000   2.000000  \n",
       "25%     5.000000   2.000000   5.000000  \n",
       "50%     7.000000   2.000000   5.000000  \n",
       "75%     7.000000   2.000000   7.000000  \n",
       "max    12.000000   5.000000  12.000000  \n",
       "\n",
       "[8 rows x 22 columns]"
      ]
     },
     "execution_count": 16,
     "metadata": {},
     "output_type": "execute_result"
    }
   ],
   "source": [
    "df.describe()"
   ]
  },
  {
   "cell_type": "code",
   "execution_count": 90,
   "metadata": {},
   "outputs": [
    {
     "data": {
      "text/plain": [
       "Total_Profit        7.375404\n",
       "Product_Profit     10.892857\n",
       "P1                  3.017099\n",
       "P2                  3.868155\n",
       "P3                  1.461503\n",
       "P4                  1.800874\n",
       "P5                  1.866876\n",
       "P6                  4.522717\n",
       "P7                  2.830818\n",
       "P8                  3.467183\n",
       "P9                  1.995902\n",
       "P10                 1.320755\n",
       "P11                 2.807329\n",
       "P12                 2.033714\n",
       "P13                 2.019661\n",
       "P14                 0.788851\n",
       "P15                 0.680293\n",
       "P16                 2.092554\n",
       "P17                 1.800874\n",
       "P18                 1.279685\n",
       "P19                 0.571670\n",
       "P20                 1.849057\n",
       "TotalProductSum     5.450839\n",
       "dtype: float64"
      ]
     },
     "execution_count": 90,
     "metadata": {},
     "output_type": "execute_result"
    }
   ],
   "source": [
    "# Standar deviation of the Columns\n",
    "np.std(df)\n"
   ]
  },
  {
   "cell_type": "code",
   "execution_count": 97,
   "metadata": {},
   "outputs": [
    {
     "data": {
      "text/plain": [
       "array([[ 9.27793904, -0.93396226],\n",
       "       [-0.93396226,  3.48476052]])"
      ]
     },
     "execution_count": 97,
     "metadata": {},
     "output_type": "execute_result"
    }
   ],
   "source": [
    "# Find Covariance\n",
    "np.cov(df.P1,df.P20)"
   ]
  },
  {
   "cell_type": "code",
   "execution_count": 82,
   "metadata": {},
   "outputs": [
    {
     "data": {
      "text/plain": [
       "Total_Profit        54.396582\n",
       "Product_Profit     118.654325\n",
       "P1                   9.102884\n",
       "P2                  14.962620\n",
       "P3                   2.135991\n",
       "P4                   3.243147\n",
       "P5                   3.485226\n",
       "P6                  20.454966\n",
       "P7                   8.013528\n",
       "P8                  12.021360\n",
       "P9                   3.983624\n",
       "P10                  1.744393\n",
       "P11                  7.881096\n",
       "P12                  4.135991\n",
       "P13                  4.079032\n",
       "P14                  0.622286\n",
       "P15                  0.462798\n",
       "P16                  4.378782\n",
       "P17                  3.243147\n",
       "P18                  1.637593\n",
       "P19                  0.326807\n",
       "P20                  3.419010\n",
       "TotalProductSum     29.711641\n",
       "dtype: float64"
      ]
     },
     "execution_count": 82,
     "metadata": {},
     "output_type": "execute_result"
    }
   ],
   "source": [
    "# Varriance of the data\n",
    "np.var(df)"
   ]
  },
  {
   "cell_type": "code",
   "execution_count": 84,
   "metadata": {},
   "outputs": [
    {
     "data": {
      "text/plain": [
       "array([-0.78796183, -1.78229462,  1.53214801, -0.12507331, -0.12507331,\n",
       "       -1.78229462, -1.78229462, -0.12507331,  1.53214801,  1.53214801,\n",
       "       -0.12507331, -0.78796183, -0.78796183, -0.12507331, -0.12507331,\n",
       "       -0.12507331, -0.12507331,  1.53214801, -0.12507331, -1.78229462,\n",
       "       -0.12507331, -0.12507331,  1.53214801, -0.12507331,  1.53214801,\n",
       "       -0.78796183,  1.53214801, -0.12507331,  1.53214801, -1.78229462,\n",
       "       -0.12507331, -0.78796183, -0.78796183,  1.53214801, -0.12507331,\n",
       "       -0.12507331, -0.12507331, -0.12507331, -0.12507331, -0.12507331,\n",
       "       -0.78796183, -0.12507331, -0.12507331, -0.12507331, -0.78796183,\n",
       "        1.53214801, -0.78796183, -0.12507331,  1.53214801,  1.53214801,\n",
       "       -0.78796183, -0.12507331,  1.53214801])"
      ]
     },
     "execution_count": 84,
     "metadata": {},
     "output_type": "execute_result"
    }
   ],
   "source": [
    "from scipy import stats\n",
    "stats.zscore(df.P1)"
   ]
  },
  {
   "cell_type": "code",
   "execution_count": 17,
   "metadata": {},
   "outputs": [
    {
     "data": {
      "text/html": [
       "<div>\n",
       "<style scoped>\n",
       "    .dataframe tbody tr th:only-of-type {\n",
       "        vertical-align: middle;\n",
       "    }\n",
       "\n",
       "    .dataframe tbody tr th {\n",
       "        vertical-align: top;\n",
       "    }\n",
       "\n",
       "    .dataframe thead th {\n",
       "        text-align: right;\n",
       "    }\n",
       "</style>\n",
       "<table border=\"1\" class=\"dataframe\">\n",
       "  <thead>\n",
       "    <tr style=\"text-align: right;\">\n",
       "      <th></th>\n",
       "      <th>Total Profit</th>\n",
       "      <th>Product Profit</th>\n",
       "      <th>P1</th>\n",
       "      <th>P2</th>\n",
       "      <th>P3</th>\n",
       "      <th>P4</th>\n",
       "      <th>P5</th>\n",
       "      <th>P6</th>\n",
       "      <th>P7</th>\n",
       "      <th>P8</th>\n",
       "      <th>...</th>\n",
       "      <th>P11</th>\n",
       "      <th>P12</th>\n",
       "      <th>P13</th>\n",
       "      <th>P14</th>\n",
       "      <th>P15</th>\n",
       "      <th>P16</th>\n",
       "      <th>P17</th>\n",
       "      <th>P18</th>\n",
       "      <th>P19</th>\n",
       "      <th>P20</th>\n",
       "    </tr>\n",
       "  </thead>\n",
       "  <tbody>\n",
       "    <tr>\n",
       "      <td>Total Profit</td>\n",
       "      <td>1.000000</td>\n",
       "      <td>0.194149</td>\n",
       "      <td>0.202166</td>\n",
       "      <td>-0.010045</td>\n",
       "      <td>-0.072526</td>\n",
       "      <td>-0.022427</td>\n",
       "      <td>0.118564</td>\n",
       "      <td>0.133239</td>\n",
       "      <td>-0.047758</td>\n",
       "      <td>0.194062</td>\n",
       "      <td>...</td>\n",
       "      <td>-0.040853</td>\n",
       "      <td>-0.085696</td>\n",
       "      <td>-0.117792</td>\n",
       "      <td>-0.002071</td>\n",
       "      <td>-0.012021</td>\n",
       "      <td>0.141989</td>\n",
       "      <td>0.217253</td>\n",
       "      <td>0.043762</td>\n",
       "      <td>-0.106184</td>\n",
       "      <td>0.083685</td>\n",
       "    </tr>\n",
       "    <tr>\n",
       "      <td>Product Profit</td>\n",
       "      <td>0.194149</td>\n",
       "      <td>1.000000</td>\n",
       "      <td>0.297344</td>\n",
       "      <td>-0.076970</td>\n",
       "      <td>0.166036</td>\n",
       "      <td>-0.203073</td>\n",
       "      <td>-0.336468</td>\n",
       "      <td>0.498279</td>\n",
       "      <td>-0.488066</td>\n",
       "      <td>0.423889</td>\n",
       "      <td>...</td>\n",
       "      <td>-0.241505</td>\n",
       "      <td>-0.046764</td>\n",
       "      <td>-0.111897</td>\n",
       "      <td>0.172140</td>\n",
       "      <td>-0.084071</td>\n",
       "      <td>0.038264</td>\n",
       "      <td>0.111699</td>\n",
       "      <td>0.530828</td>\n",
       "      <td>-0.029156</td>\n",
       "      <td>-0.037382</td>\n",
       "    </tr>\n",
       "    <tr>\n",
       "      <td>P1</td>\n",
       "      <td>0.202166</td>\n",
       "      <td>0.297344</td>\n",
       "      <td>1.000000</td>\n",
       "      <td>-0.114267</td>\n",
       "      <td>0.147340</td>\n",
       "      <td>-0.379231</td>\n",
       "      <td>-0.157946</td>\n",
       "      <td>0.209861</td>\n",
       "      <td>0.001876</td>\n",
       "      <td>-0.001702</td>\n",
       "      <td>...</td>\n",
       "      <td>-0.105833</td>\n",
       "      <td>0.013634</td>\n",
       "      <td>-0.220370</td>\n",
       "      <td>-0.002992</td>\n",
       "      <td>-0.017345</td>\n",
       "      <td>-0.156475</td>\n",
       "      <td>-0.027060</td>\n",
       "      <td>-0.014753</td>\n",
       "      <td>-0.188858</td>\n",
       "      <td>-0.164254</td>\n",
       "    </tr>\n",
       "    <tr>\n",
       "      <td>P2</td>\n",
       "      <td>-0.010045</td>\n",
       "      <td>-0.076970</td>\n",
       "      <td>-0.114267</td>\n",
       "      <td>1.000000</td>\n",
       "      <td>0.019521</td>\n",
       "      <td>0.013032</td>\n",
       "      <td>0.209615</td>\n",
       "      <td>-0.392208</td>\n",
       "      <td>0.067591</td>\n",
       "      <td>-0.031773</td>\n",
       "      <td>...</td>\n",
       "      <td>0.184635</td>\n",
       "      <td>-0.295371</td>\n",
       "      <td>0.105674</td>\n",
       "      <td>-0.200551</td>\n",
       "      <td>0.091994</td>\n",
       "      <td>0.107314</td>\n",
       "      <td>-0.162002</td>\n",
       "      <td>-0.165701</td>\n",
       "      <td>-0.047814</td>\n",
       "      <td>0.163156</td>\n",
       "    </tr>\n",
       "    <tr>\n",
       "      <td>P3</td>\n",
       "      <td>-0.072526</td>\n",
       "      <td>0.166036</td>\n",
       "      <td>0.147340</td>\n",
       "      <td>0.019521</td>\n",
       "      <td>1.000000</td>\n",
       "      <td>0.118351</td>\n",
       "      <td>0.001305</td>\n",
       "      <td>-0.084826</td>\n",
       "      <td>-0.090350</td>\n",
       "      <td>0.237108</td>\n",
       "      <td>...</td>\n",
       "      <td>0.123643</td>\n",
       "      <td>0.083841</td>\n",
       "      <td>0.057288</td>\n",
       "      <td>0.007720</td>\n",
       "      <td>0.044757</td>\n",
       "      <td>-0.020371</td>\n",
       "      <td>-0.118351</td>\n",
       "      <td>-0.012373</td>\n",
       "      <td>-0.274829</td>\n",
       "      <td>-0.361610</td>\n",
       "    </tr>\n",
       "  </tbody>\n",
       "</table>\n",
       "<p>5 rows × 22 columns</p>\n",
       "</div>"
      ],
      "text/plain": [
       "                Total Profit  Product Profit        P1        P2        P3  \\\n",
       "Total Profit        1.000000        0.194149  0.202166 -0.010045 -0.072526   \n",
       "Product Profit      0.194149        1.000000  0.297344 -0.076970  0.166036   \n",
       "P1                  0.202166        0.297344  1.000000 -0.114267  0.147340   \n",
       "P2                 -0.010045       -0.076970 -0.114267  1.000000  0.019521   \n",
       "P3                 -0.072526        0.166036  0.147340  0.019521  1.000000   \n",
       "\n",
       "                      P4        P5        P6        P7        P8  ...  \\\n",
       "Total Profit   -0.022427  0.118564  0.133239 -0.047758  0.194062  ...   \n",
       "Product Profit -0.203073 -0.336468  0.498279 -0.488066  0.423889  ...   \n",
       "P1             -0.379231 -0.157946  0.209861  0.001876 -0.001702  ...   \n",
       "P2              0.013032  0.209615 -0.392208  0.067591 -0.031773  ...   \n",
       "P3              0.118351  0.001305 -0.084826 -0.090350  0.237108  ...   \n",
       "\n",
       "                     P11       P12       P13       P14       P15       P16  \\\n",
       "Total Profit   -0.040853 -0.085696 -0.117792 -0.002071 -0.012021  0.141989   \n",
       "Product Profit -0.241505 -0.046764 -0.111897  0.172140 -0.084071  0.038264   \n",
       "P1             -0.105833  0.013634 -0.220370 -0.002992 -0.017345 -0.156475   \n",
       "P2              0.184635 -0.295371  0.105674 -0.200551  0.091994  0.107314   \n",
       "P3              0.123643  0.083841  0.057288  0.007720  0.044757 -0.020371   \n",
       "\n",
       "                     P17       P18       P19       P20  \n",
       "Total Profit    0.217253  0.043762 -0.106184  0.083685  \n",
       "Product Profit  0.111699  0.530828 -0.029156 -0.037382  \n",
       "P1             -0.027060 -0.014753 -0.188858 -0.164254  \n",
       "P2             -0.162002 -0.165701 -0.047814  0.163156  \n",
       "P3             -0.118351 -0.012373 -0.274829 -0.361610  \n",
       "\n",
       "[5 rows x 22 columns]"
      ]
     },
     "execution_count": 17,
     "metadata": {},
     "output_type": "execute_result"
    }
   ],
   "source": [
    "df.corr().head()"
   ]
  },
  {
   "cell_type": "code",
   "execution_count": 18,
   "metadata": {},
   "outputs": [
    {
     "data": {
      "text/plain": [
       "Name Surname      0\n",
       "ID                0\n",
       "Total Profit      6\n",
       "Product Profit    0\n",
       "P1                0\n",
       "P2                0\n",
       "P3                0\n",
       "P4                0\n",
       "P5                0\n",
       "P6                0\n",
       "P7                0\n",
       "P8                0\n",
       "P9                0\n",
       "P10               0\n",
       "P11               0\n",
       "P12               0\n",
       "P13               0\n",
       "P14               0\n",
       "P15               0\n",
       "P16               0\n",
       "P17               0\n",
       "P18               0\n",
       "P19               0\n",
       "P20               0\n",
       "dtype: int64"
      ]
     },
     "execution_count": 18,
     "metadata": {},
     "output_type": "execute_result"
    }
   ],
   "source": [
    "df.isnull().sum()"
   ]
  },
  {
   "cell_type": "code",
   "execution_count": 19,
   "metadata": {},
   "outputs": [],
   "source": [
    "df[\"Total Profit\"].fillna(df[\"Total Profit\"].median(),inplace = True)\n",
    "# df[\"Total Profit\"].fillna(df[\"Total Profit\"].mean(),inplace = True)\n",
    "# df[\"Total Profit\"].fillna(df[\"Total Profit\"].mode(),inplace = True)\n"
   ]
  },
  {
   "cell_type": "code",
   "execution_count": null,
   "metadata": {},
   "outputs": [],
   "source": []
  },
  {
   "cell_type": "code",
   "execution_count": null,
   "metadata": {},
   "outputs": [],
   "source": []
  },
  {
   "cell_type": "code",
   "execution_count": 20,
   "metadata": {},
   "outputs": [
    {
     "data": {
      "text/plain": [
       "Name Surname      0\n",
       "ID                0\n",
       "Total Profit      0\n",
       "Product Profit    0\n",
       "P1                0\n",
       "P2                0\n",
       "P3                0\n",
       "P4                0\n",
       "P5                0\n",
       "P6                0\n",
       "P7                0\n",
       "P8                0\n",
       "P9                0\n",
       "P10               0\n",
       "P11               0\n",
       "P12               0\n",
       "P13               0\n",
       "P14               0\n",
       "P15               0\n",
       "P16               0\n",
       "P17               0\n",
       "P18               0\n",
       "P19               0\n",
       "P20               0\n",
       "dtype: int64"
      ]
     },
     "execution_count": 20,
     "metadata": {},
     "output_type": "execute_result"
    }
   ],
   "source": [
    "df.isnull().sum()"
   ]
  },
  {
   "cell_type": "code",
   "execution_count": 21,
   "metadata": {},
   "outputs": [
    {
     "data": {
      "text/html": [
       "<div>\n",
       "<style scoped>\n",
       "    .dataframe tbody tr th:only-of-type {\n",
       "        vertical-align: middle;\n",
       "    }\n",
       "\n",
       "    .dataframe tbody tr th {\n",
       "        vertical-align: top;\n",
       "    }\n",
       "\n",
       "    .dataframe thead th {\n",
       "        text-align: right;\n",
       "    }\n",
       "</style>\n",
       "<table border=\"1\" class=\"dataframe\">\n",
       "  <thead>\n",
       "    <tr style=\"text-align: right;\">\n",
       "      <th></th>\n",
       "      <th>ID</th>\n",
       "      <th>P1</th>\n",
       "      <th>P2</th>\n",
       "      <th>P3</th>\n",
       "      <th>P4</th>\n",
       "      <th>P5</th>\n",
       "      <th>P6</th>\n",
       "      <th>P7</th>\n",
       "      <th>P8</th>\n",
       "      <th>P9</th>\n",
       "      <th>...</th>\n",
       "      <th>P11</th>\n",
       "      <th>P12</th>\n",
       "      <th>P13</th>\n",
       "      <th>P14</th>\n",
       "      <th>P15</th>\n",
       "      <th>P16</th>\n",
       "      <th>P17</th>\n",
       "      <th>P18</th>\n",
       "      <th>P19</th>\n",
       "      <th>P20</th>\n",
       "    </tr>\n",
       "  </thead>\n",
       "  <tbody>\n",
       "    <tr>\n",
       "      <td>0</td>\n",
       "      <td>1247791</td>\n",
       "      <td>5</td>\n",
       "      <td>2</td>\n",
       "      <td>12</td>\n",
       "      <td>2</td>\n",
       "      <td>2</td>\n",
       "      <td>12</td>\n",
       "      <td>2</td>\n",
       "      <td>12</td>\n",
       "      <td>2</td>\n",
       "      <td>...</td>\n",
       "      <td>5</td>\n",
       "      <td>2</td>\n",
       "      <td>5</td>\n",
       "      <td>7</td>\n",
       "      <td>7</td>\n",
       "      <td>12</td>\n",
       "      <td>5</td>\n",
       "      <td>7</td>\n",
       "      <td>2</td>\n",
       "      <td>7</td>\n",
       "    </tr>\n",
       "    <tr>\n",
       "      <td>1</td>\n",
       "      <td>1906020</td>\n",
       "      <td>2</td>\n",
       "      <td>12</td>\n",
       "      <td>7</td>\n",
       "      <td>2</td>\n",
       "      <td>2</td>\n",
       "      <td>12</td>\n",
       "      <td>12</td>\n",
       "      <td>2</td>\n",
       "      <td>2</td>\n",
       "      <td>...</td>\n",
       "      <td>12</td>\n",
       "      <td>2</td>\n",
       "      <td>5</td>\n",
       "      <td>7</td>\n",
       "      <td>7</td>\n",
       "      <td>7</td>\n",
       "      <td>7</td>\n",
       "      <td>5</td>\n",
       "      <td>2</td>\n",
       "      <td>7</td>\n",
       "    </tr>\n",
       "    <tr>\n",
       "      <td>2</td>\n",
       "      <td>1900192</td>\n",
       "      <td>12</td>\n",
       "      <td>12</td>\n",
       "      <td>12</td>\n",
       "      <td>2</td>\n",
       "      <td>5</td>\n",
       "      <td>2</td>\n",
       "      <td>7</td>\n",
       "      <td>2</td>\n",
       "      <td>2</td>\n",
       "      <td>...</td>\n",
       "      <td>7</td>\n",
       "      <td>2</td>\n",
       "      <td>5</td>\n",
       "      <td>7</td>\n",
       "      <td>7</td>\n",
       "      <td>7</td>\n",
       "      <td>2</td>\n",
       "      <td>5</td>\n",
       "      <td>2</td>\n",
       "      <td>7</td>\n",
       "    </tr>\n",
       "    <tr>\n",
       "      <td>3</td>\n",
       "      <td>1907020</td>\n",
       "      <td>7</td>\n",
       "      <td>12</td>\n",
       "      <td>12</td>\n",
       "      <td>2</td>\n",
       "      <td>5</td>\n",
       "      <td>2</td>\n",
       "      <td>2</td>\n",
       "      <td>12</td>\n",
       "      <td>5</td>\n",
       "      <td>...</td>\n",
       "      <td>7</td>\n",
       "      <td>2</td>\n",
       "      <td>5</td>\n",
       "      <td>7</td>\n",
       "      <td>7</td>\n",
       "      <td>12</td>\n",
       "      <td>12</td>\n",
       "      <td>5</td>\n",
       "      <td>2</td>\n",
       "      <td>5</td>\n",
       "    </tr>\n",
       "    <tr>\n",
       "      <td>4</td>\n",
       "      <td>1905678</td>\n",
       "      <td>7</td>\n",
       "      <td>12</td>\n",
       "      <td>12</td>\n",
       "      <td>2</td>\n",
       "      <td>2</td>\n",
       "      <td>12</td>\n",
       "      <td>2</td>\n",
       "      <td>12</td>\n",
       "      <td>2</td>\n",
       "      <td>...</td>\n",
       "      <td>5</td>\n",
       "      <td>2</td>\n",
       "      <td>12</td>\n",
       "      <td>7</td>\n",
       "      <td>7</td>\n",
       "      <td>12</td>\n",
       "      <td>7</td>\n",
       "      <td>12</td>\n",
       "      <td>5</td>\n",
       "      <td>5</td>\n",
       "    </tr>\n",
       "  </tbody>\n",
       "</table>\n",
       "<p>5 rows × 21 columns</p>\n",
       "</div>"
      ],
      "text/plain": [
       "        ID  P1  P2  P3  P4  P5  P6  P7  P8  P9  ...  P11  P12  P13  P14  P15  \\\n",
       "0  1247791   5   2  12   2   2  12   2  12   2  ...    5    2    5    7    7   \n",
       "1  1906020   2  12   7   2   2  12  12   2   2  ...   12    2    5    7    7   \n",
       "2  1900192  12  12  12   2   5   2   7   2   2  ...    7    2    5    7    7   \n",
       "3  1907020   7  12  12   2   5   2   2  12   5  ...    7    2    5    7    7   \n",
       "4  1905678   7  12  12   2   2  12   2  12   2  ...    5    2   12    7    7   \n",
       "\n",
       "   P16  P17  P18  P19  P20  \n",
       "0   12    5    7    2    7  \n",
       "1    7    7    5    2    7  \n",
       "2    7    2    5    2    7  \n",
       "3   12   12    5    2    5  \n",
       "4   12    7   12    5    5  \n",
       "\n",
       "[5 rows x 21 columns]"
      ]
     },
     "execution_count": 21,
     "metadata": {},
     "output_type": "execute_result"
    }
   ],
   "source": [
    "df.drop(['Name Surname', 'Total Profit','Product Profit'], axis=1).head()"
   ]
  },
  {
   "cell_type": "code",
   "execution_count": 22,
   "metadata": {},
   "outputs": [
    {
     "data": {
      "text/html": [
       "<div>\n",
       "<style scoped>\n",
       "    .dataframe tbody tr th:only-of-type {\n",
       "        vertical-align: middle;\n",
       "    }\n",
       "\n",
       "    .dataframe tbody tr th {\n",
       "        vertical-align: top;\n",
       "    }\n",
       "\n",
       "    .dataframe thead th {\n",
       "        text-align: right;\n",
       "    }\n",
       "</style>\n",
       "<table border=\"1\" class=\"dataframe\">\n",
       "  <thead>\n",
       "    <tr style=\"text-align: right;\">\n",
       "      <th></th>\n",
       "      <th>Name Surname</th>\n",
       "      <th>ID</th>\n",
       "      <th>Total Profit</th>\n",
       "      <th>Product Profit</th>\n",
       "      <th>P1</th>\n",
       "      <th>P2</th>\n",
       "      <th>P3</th>\n",
       "      <th>P4</th>\n",
       "      <th>P5</th>\n",
       "      <th>P6</th>\n",
       "      <th>...</th>\n",
       "      <th>P12</th>\n",
       "      <th>P13</th>\n",
       "      <th>P14</th>\n",
       "      <th>P15</th>\n",
       "      <th>P16</th>\n",
       "      <th>P17</th>\n",
       "      <th>P18</th>\n",
       "      <th>P19</th>\n",
       "      <th>P20</th>\n",
       "      <th>TotalProductSum</th>\n",
       "    </tr>\n",
       "  </thead>\n",
       "  <tbody>\n",
       "    <tr>\n",
       "      <td>0</td>\n",
       "      <td>Karoline Deason</td>\n",
       "      <td>1247791</td>\n",
       "      <td>85.0</td>\n",
       "      <td>80</td>\n",
       "      <td>5</td>\n",
       "      <td>2</td>\n",
       "      <td>12</td>\n",
       "      <td>2</td>\n",
       "      <td>2</td>\n",
       "      <td>12</td>\n",
       "      <td>...</td>\n",
       "      <td>2</td>\n",
       "      <td>5</td>\n",
       "      <td>7</td>\n",
       "      <td>7</td>\n",
       "      <td>12</td>\n",
       "      <td>5</td>\n",
       "      <td>7</td>\n",
       "      <td>2</td>\n",
       "      <td>7</td>\n",
       "      <td>23</td>\n",
       "    </tr>\n",
       "    <tr>\n",
       "      <td>1</td>\n",
       "      <td>Xenia Crago</td>\n",
       "      <td>1906020</td>\n",
       "      <td>85.0</td>\n",
       "      <td>65</td>\n",
       "      <td>2</td>\n",
       "      <td>12</td>\n",
       "      <td>7</td>\n",
       "      <td>2</td>\n",
       "      <td>2</td>\n",
       "      <td>12</td>\n",
       "      <td>...</td>\n",
       "      <td>2</td>\n",
       "      <td>5</td>\n",
       "      <td>7</td>\n",
       "      <td>7</td>\n",
       "      <td>7</td>\n",
       "      <td>7</td>\n",
       "      <td>5</td>\n",
       "      <td>2</td>\n",
       "      <td>7</td>\n",
       "      <td>25</td>\n",
       "    </tr>\n",
       "    <tr>\n",
       "      <td>2</td>\n",
       "      <td>France Buterbaugh</td>\n",
       "      <td>1900192</td>\n",
       "      <td>80.0</td>\n",
       "      <td>60</td>\n",
       "      <td>12</td>\n",
       "      <td>12</td>\n",
       "      <td>12</td>\n",
       "      <td>2</td>\n",
       "      <td>5</td>\n",
       "      <td>2</td>\n",
       "      <td>...</td>\n",
       "      <td>2</td>\n",
       "      <td>5</td>\n",
       "      <td>7</td>\n",
       "      <td>7</td>\n",
       "      <td>7</td>\n",
       "      <td>2</td>\n",
       "      <td>5</td>\n",
       "      <td>2</td>\n",
       "      <td>7</td>\n",
       "      <td>43</td>\n",
       "    </tr>\n",
       "    <tr>\n",
       "      <td>3</td>\n",
       "      <td>Lottie Gryder</td>\n",
       "      <td>1907020</td>\n",
       "      <td>85.0</td>\n",
       "      <td>65</td>\n",
       "      <td>7</td>\n",
       "      <td>12</td>\n",
       "      <td>12</td>\n",
       "      <td>2</td>\n",
       "      <td>5</td>\n",
       "      <td>2</td>\n",
       "      <td>...</td>\n",
       "      <td>2</td>\n",
       "      <td>5</td>\n",
       "      <td>7</td>\n",
       "      <td>7</td>\n",
       "      <td>12</td>\n",
       "      <td>12</td>\n",
       "      <td>5</td>\n",
       "      <td>2</td>\n",
       "      <td>5</td>\n",
       "      <td>38</td>\n",
       "    </tr>\n",
       "    <tr>\n",
       "      <td>4</td>\n",
       "      <td>Corie Woodley</td>\n",
       "      <td>1905678</td>\n",
       "      <td>80.0</td>\n",
       "      <td>85</td>\n",
       "      <td>7</td>\n",
       "      <td>12</td>\n",
       "      <td>12</td>\n",
       "      <td>2</td>\n",
       "      <td>2</td>\n",
       "      <td>12</td>\n",
       "      <td>...</td>\n",
       "      <td>2</td>\n",
       "      <td>12</td>\n",
       "      <td>7</td>\n",
       "      <td>7</td>\n",
       "      <td>12</td>\n",
       "      <td>7</td>\n",
       "      <td>12</td>\n",
       "      <td>5</td>\n",
       "      <td>5</td>\n",
       "      <td>35</td>\n",
       "    </tr>\n",
       "  </tbody>\n",
       "</table>\n",
       "<p>5 rows × 25 columns</p>\n",
       "</div>"
      ],
      "text/plain": [
       "        Name Surname       ID  Total Profit  Product Profit  P1  P2  P3  P4  \\\n",
       "0    Karoline Deason  1247791          85.0              80   5   2  12   2   \n",
       "1        Xenia Crago  1906020          85.0              65   2  12   7   2   \n",
       "2  France Buterbaugh  1900192          80.0              60  12  12  12   2   \n",
       "3      Lottie Gryder  1907020          85.0              65   7  12  12   2   \n",
       "4      Corie Woodley  1905678          80.0              85   7  12  12   2   \n",
       "\n",
       "   P5  P6  ...  P12  P13  P14  P15  P16  P17  P18  P19  P20  TotalProductSum  \n",
       "0   2  12  ...    2    5    7    7   12    5    7    2    7               23  \n",
       "1   2  12  ...    2    5    7    7    7    7    5    2    7               25  \n",
       "2   5   2  ...    2    5    7    7    7    2    5    2    7               43  \n",
       "3   5   2  ...    2    5    7    7   12   12    5    2    5               38  \n",
       "4   2  12  ...    2   12    7    7   12    7   12    5    5               35  \n",
       "\n",
       "[5 rows x 25 columns]"
      ]
     },
     "execution_count": 22,
     "metadata": {},
     "output_type": "execute_result"
    }
   ],
   "source": [
    "df[\"TotalProductSum\"]=df['P1'] + df['P2']+df['P3'] + df['P4']+df['P5'] \n",
    "+ df['P6']+df['P7'] + df['P8']+df['P9'] + df['P10']+df['P11'] + df['P12']\n",
    "+df['P13'] + df['P14']+df['P15'] + df['P16']+df['P17'] \n",
    "+df['P18']+df['P19'] + df['P20']\n",
    "df.head()"
   ]
  },
  {
   "cell_type": "code",
   "execution_count": 23,
   "metadata": {},
   "outputs": [
    {
     "data": {
      "text/html": [
       "<div>\n",
       "<style scoped>\n",
       "    .dataframe tbody tr th:only-of-type {\n",
       "        vertical-align: middle;\n",
       "    }\n",
       "\n",
       "    .dataframe tbody tr th {\n",
       "        vertical-align: top;\n",
       "    }\n",
       "\n",
       "    .dataframe thead th {\n",
       "        text-align: right;\n",
       "    }\n",
       "</style>\n",
       "<table border=\"1\" class=\"dataframe\">\n",
       "  <thead>\n",
       "    <tr style=\"text-align: right;\">\n",
       "      <th></th>\n",
       "      <th>Name Surname</th>\n",
       "      <th>ID</th>\n",
       "      <th>Product Profit</th>\n",
       "      <th>P1</th>\n",
       "      <th>P2</th>\n",
       "      <th>P3</th>\n",
       "      <th>P4</th>\n",
       "      <th>P5</th>\n",
       "      <th>P6</th>\n",
       "      <th>P7</th>\n",
       "      <th>...</th>\n",
       "      <th>P12</th>\n",
       "      <th>P13</th>\n",
       "      <th>P14</th>\n",
       "      <th>P15</th>\n",
       "      <th>P16</th>\n",
       "      <th>P17</th>\n",
       "      <th>P18</th>\n",
       "      <th>P19</th>\n",
       "      <th>P20</th>\n",
       "      <th>TotalProductSum</th>\n",
       "    </tr>\n",
       "    <tr>\n",
       "      <th>Total Profit</th>\n",
       "      <th></th>\n",
       "      <th></th>\n",
       "      <th></th>\n",
       "      <th></th>\n",
       "      <th></th>\n",
       "      <th></th>\n",
       "      <th></th>\n",
       "      <th></th>\n",
       "      <th></th>\n",
       "      <th></th>\n",
       "      <th></th>\n",
       "      <th></th>\n",
       "      <th></th>\n",
       "      <th></th>\n",
       "      <th></th>\n",
       "      <th></th>\n",
       "      <th></th>\n",
       "      <th></th>\n",
       "      <th></th>\n",
       "      <th></th>\n",
       "      <th></th>\n",
       "    </tr>\n",
       "  </thead>\n",
       "  <tbody>\n",
       "    <tr>\n",
       "      <td>70.0</td>\n",
       "      <td>2</td>\n",
       "      <td>2</td>\n",
       "      <td>2</td>\n",
       "      <td>2</td>\n",
       "      <td>2</td>\n",
       "      <td>2</td>\n",
       "      <td>2</td>\n",
       "      <td>2</td>\n",
       "      <td>2</td>\n",
       "      <td>2</td>\n",
       "      <td>...</td>\n",
       "      <td>2</td>\n",
       "      <td>2</td>\n",
       "      <td>2</td>\n",
       "      <td>2</td>\n",
       "      <td>2</td>\n",
       "      <td>2</td>\n",
       "      <td>2</td>\n",
       "      <td>2</td>\n",
       "      <td>2</td>\n",
       "      <td>2</td>\n",
       "    </tr>\n",
       "    <tr>\n",
       "      <td>80.0</td>\n",
       "      <td>15</td>\n",
       "      <td>15</td>\n",
       "      <td>15</td>\n",
       "      <td>15</td>\n",
       "      <td>15</td>\n",
       "      <td>15</td>\n",
       "      <td>15</td>\n",
       "      <td>15</td>\n",
       "      <td>15</td>\n",
       "      <td>15</td>\n",
       "      <td>...</td>\n",
       "      <td>15</td>\n",
       "      <td>15</td>\n",
       "      <td>15</td>\n",
       "      <td>15</td>\n",
       "      <td>15</td>\n",
       "      <td>15</td>\n",
       "      <td>15</td>\n",
       "      <td>15</td>\n",
       "      <td>15</td>\n",
       "      <td>15</td>\n",
       "    </tr>\n",
       "    <tr>\n",
       "      <td>85.0</td>\n",
       "      <td>25</td>\n",
       "      <td>25</td>\n",
       "      <td>25</td>\n",
       "      <td>25</td>\n",
       "      <td>25</td>\n",
       "      <td>25</td>\n",
       "      <td>25</td>\n",
       "      <td>25</td>\n",
       "      <td>25</td>\n",
       "      <td>25</td>\n",
       "      <td>...</td>\n",
       "      <td>25</td>\n",
       "      <td>25</td>\n",
       "      <td>25</td>\n",
       "      <td>25</td>\n",
       "      <td>25</td>\n",
       "      <td>25</td>\n",
       "      <td>25</td>\n",
       "      <td>25</td>\n",
       "      <td>25</td>\n",
       "      <td>25</td>\n",
       "    </tr>\n",
       "    <tr>\n",
       "      <td>90.0</td>\n",
       "      <td>3</td>\n",
       "      <td>3</td>\n",
       "      <td>3</td>\n",
       "      <td>3</td>\n",
       "      <td>3</td>\n",
       "      <td>3</td>\n",
       "      <td>3</td>\n",
       "      <td>3</td>\n",
       "      <td>3</td>\n",
       "      <td>3</td>\n",
       "      <td>...</td>\n",
       "      <td>3</td>\n",
       "      <td>3</td>\n",
       "      <td>3</td>\n",
       "      <td>3</td>\n",
       "      <td>3</td>\n",
       "      <td>3</td>\n",
       "      <td>3</td>\n",
       "      <td>3</td>\n",
       "      <td>3</td>\n",
       "      <td>3</td>\n",
       "    </tr>\n",
       "    <tr>\n",
       "      <td>95.0</td>\n",
       "      <td>3</td>\n",
       "      <td>3</td>\n",
       "      <td>3</td>\n",
       "      <td>3</td>\n",
       "      <td>3</td>\n",
       "      <td>3</td>\n",
       "      <td>3</td>\n",
       "      <td>3</td>\n",
       "      <td>3</td>\n",
       "      <td>3</td>\n",
       "      <td>...</td>\n",
       "      <td>3</td>\n",
       "      <td>3</td>\n",
       "      <td>3</td>\n",
       "      <td>3</td>\n",
       "      <td>3</td>\n",
       "      <td>3</td>\n",
       "      <td>3</td>\n",
       "      <td>3</td>\n",
       "      <td>3</td>\n",
       "      <td>3</td>\n",
       "    </tr>\n",
       "  </tbody>\n",
       "</table>\n",
       "<p>5 rows × 24 columns</p>\n",
       "</div>"
      ],
      "text/plain": [
       "              Name Surname  ID  Product Profit  P1  P2  P3  P4  P5  P6  P7  \\\n",
       "Total Profit                                                                 \n",
       "70.0                     2   2               2   2   2   2   2   2   2   2   \n",
       "80.0                    15  15              15  15  15  15  15  15  15  15   \n",
       "85.0                    25  25              25  25  25  25  25  25  25  25   \n",
       "90.0                     3   3               3   3   3   3   3   3   3   3   \n",
       "95.0                     3   3               3   3   3   3   3   3   3   3   \n",
       "\n",
       "              ...  P12  P13  P14  P15  P16  P17  P18  P19  P20  \\\n",
       "Total Profit  ...                                                \n",
       "70.0          ...    2    2    2    2    2    2    2    2    2   \n",
       "80.0          ...   15   15   15   15   15   15   15   15   15   \n",
       "85.0          ...   25   25   25   25   25   25   25   25   25   \n",
       "90.0          ...    3    3    3    3    3    3    3    3    3   \n",
       "95.0          ...    3    3    3    3    3    3    3    3    3   \n",
       "\n",
       "              TotalProductSum  \n",
       "Total Profit                   \n",
       "70.0                        2  \n",
       "80.0                       15  \n",
       "85.0                       25  \n",
       "90.0                        3  \n",
       "95.0                        3  \n",
       "\n",
       "[5 rows x 24 columns]"
      ]
     },
     "execution_count": 23,
     "metadata": {},
     "output_type": "execute_result"
    }
   ],
   "source": [
    "m=df.groupby('Total Profit', sort=True).count()\n",
    "m.head()"
   ]
  },
  {
   "cell_type": "code",
   "execution_count": null,
   "metadata": {},
   "outputs": [],
   "source": []
  },
  {
   "cell_type": "code",
   "execution_count": 24,
   "metadata": {},
   "outputs": [
    {
     "data": {
      "text/plain": [
       "array([[1.        , 0.17658304],\n",
       "       [0.17658304, 1.        ]])"
      ]
     },
     "execution_count": 24,
     "metadata": {},
     "output_type": "execute_result"
    }
   ],
   "source": [
    "np.corrcoef(df['Total Profit'], df['Product Profit'])"
   ]
  },
  {
   "cell_type": "code",
   "execution_count": 25,
   "metadata": {},
   "outputs": [
    {
     "ename": "NameError",
     "evalue": "name 'n' is not defined",
     "output_type": "error",
     "traceback": [
      "\u001b[0;31m---------------------------------------------------------------------------\u001b[0m",
      "\u001b[0;31mNameError\u001b[0m                                 Traceback (most recent call last)",
      "\u001b[0;32m<ipython-input-25-ab0680a89434>\u001b[0m in \u001b[0;36m<module>\u001b[0;34m\u001b[0m\n\u001b[0;32m----> 1\u001b[0;31m \u001b[0mn\u001b[0m\u001b[0;34m\u001b[0m\u001b[0;34m\u001b[0m\u001b[0m\n\u001b[0m",
      "\u001b[0;31mNameError\u001b[0m: name 'n' is not defined"
     ]
    }
   ],
   "source": [
    "n"
   ]
  },
  {
   "cell_type": "code",
   "execution_count": 26,
   "metadata": {},
   "outputs": [
    {
     "data": {
      "image/png": "[encoded data removed]",
      "text/plain": [
       "<Figure size 432x288 with 1 Axes>"
      ]
     },
     "metadata": {
      "needs_background": "light"
     },
     "output_type": "display_data"
    }
   ],
   "source": [
    "import matplotlib\n",
    "import matplotlib.pyplot as plt\n",
    "%matplotlib inline\n",
    "\n",
    "plt.scatter(df['P6'], df['P1'])\n",
    "plt.show()"
   ]
  },
  {
   "cell_type": "code",
   "execution_count": 27,
   "metadata": {},
   "outputs": [
    {
     "data": {
      "text/html": [
       "<div>\n",
       "<style scoped>\n",
       "    .dataframe tbody tr th:only-of-type {\n",
       "        vertical-align: middle;\n",
       "    }\n",
       "\n",
       "    .dataframe tbody tr th {\n",
       "        vertical-align: top;\n",
       "    }\n",
       "\n",
       "    .dataframe thead th {\n",
       "        text-align: right;\n",
       "    }\n",
       "</style>\n",
       "<table border=\"1\" class=\"dataframe\">\n",
       "  <thead>\n",
       "    <tr style=\"text-align: right;\">\n",
       "      <th></th>\n",
       "      <th>Total Profit</th>\n",
       "      <th>Product Profit</th>\n",
       "      <th>P1</th>\n",
       "      <th>P2</th>\n",
       "      <th>P3</th>\n",
       "      <th>P4</th>\n",
       "      <th>P5</th>\n",
       "      <th>P6</th>\n",
       "      <th>P7</th>\n",
       "      <th>P8</th>\n",
       "      <th>...</th>\n",
       "      <th>P12</th>\n",
       "      <th>P13</th>\n",
       "      <th>P14</th>\n",
       "      <th>P15</th>\n",
       "      <th>P16</th>\n",
       "      <th>P17</th>\n",
       "      <th>P18</th>\n",
       "      <th>P19</th>\n",
       "      <th>P20</th>\n",
       "      <th>TotalProductSum</th>\n",
       "    </tr>\n",
       "  </thead>\n",
       "  <tbody>\n",
       "    <tr>\n",
       "      <td>Total Profit</td>\n",
       "      <td>1.000000</td>\n",
       "      <td>0.176583</td>\n",
       "      <td>0.176941</td>\n",
       "      <td>-0.001997</td>\n",
       "      <td>-0.062750</td>\n",
       "      <td>-0.021040</td>\n",
       "      <td>0.121648</td>\n",
       "      <td>0.121986</td>\n",
       "      <td>-0.046294</td>\n",
       "      <td>0.179726</td>\n",
       "      <td>...</td>\n",
       "      <td>-0.082832</td>\n",
       "      <td>-0.108622</td>\n",
       "      <td>-0.001836</td>\n",
       "      <td>-0.010643</td>\n",
       "      <td>0.133210</td>\n",
       "      <td>0.212814</td>\n",
       "      <td>0.040925</td>\n",
       "      <td>-0.082323</td>\n",
       "      <td>0.061084</td>\n",
       "      <td>0.114409</td>\n",
       "    </tr>\n",
       "    <tr>\n",
       "      <td>Product Profit</td>\n",
       "      <td>0.176583</td>\n",
       "      <td>1.000000</td>\n",
       "      <td>0.297344</td>\n",
       "      <td>-0.076970</td>\n",
       "      <td>0.166036</td>\n",
       "      <td>-0.203073</td>\n",
       "      <td>-0.336468</td>\n",
       "      <td>0.498279</td>\n",
       "      <td>-0.488066</td>\n",
       "      <td>0.423889</td>\n",
       "      <td>...</td>\n",
       "      <td>-0.046764</td>\n",
       "      <td>-0.111897</td>\n",
       "      <td>0.172140</td>\n",
       "      <td>-0.084071</td>\n",
       "      <td>0.038264</td>\n",
       "      <td>0.111699</td>\n",
       "      <td>0.530828</td>\n",
       "      <td>-0.029156</td>\n",
       "      <td>-0.037382</td>\n",
       "      <td>-0.027850</td>\n",
       "    </tr>\n",
       "    <tr>\n",
       "      <td>P1</td>\n",
       "      <td>0.176941</td>\n",
       "      <td>0.297344</td>\n",
       "      <td>1.000000</td>\n",
       "      <td>-0.114267</td>\n",
       "      <td>0.147340</td>\n",
       "      <td>-0.379231</td>\n",
       "      <td>-0.157946</td>\n",
       "      <td>0.209861</td>\n",
       "      <td>0.001876</td>\n",
       "      <td>-0.001702</td>\n",
       "      <td>...</td>\n",
       "      <td>0.013634</td>\n",
       "      <td>-0.220370</td>\n",
       "      <td>-0.002992</td>\n",
       "      <td>-0.017345</td>\n",
       "      <td>-0.156475</td>\n",
       "      <td>-0.027060</td>\n",
       "      <td>-0.014753</td>\n",
       "      <td>-0.188858</td>\n",
       "      <td>-0.164254</td>\n",
       "      <td>0.332539</td>\n",
       "    </tr>\n",
       "    <tr>\n",
       "      <td>P2</td>\n",
       "      <td>-0.001997</td>\n",
       "      <td>-0.076970</td>\n",
       "      <td>-0.114267</td>\n",
       "      <td>1.000000</td>\n",
       "      <td>0.019521</td>\n",
       "      <td>0.013032</td>\n",
       "      <td>0.209615</td>\n",
       "      <td>-0.392208</td>\n",
       "      <td>0.067591</td>\n",
       "      <td>-0.031773</td>\n",
       "      <td>...</td>\n",
       "      <td>-0.295371</td>\n",
       "      <td>0.105674</td>\n",
       "      <td>-0.200551</td>\n",
       "      <td>0.091994</td>\n",
       "      <td>0.107314</td>\n",
       "      <td>-0.162002</td>\n",
       "      <td>-0.165701</td>\n",
       "      <td>-0.047814</td>\n",
       "      <td>0.163156</td>\n",
       "      <td>0.727727</td>\n",
       "    </tr>\n",
       "    <tr>\n",
       "      <td>P3</td>\n",
       "      <td>-0.062750</td>\n",
       "      <td>0.166036</td>\n",
       "      <td>0.147340</td>\n",
       "      <td>0.019521</td>\n",
       "      <td>1.000000</td>\n",
       "      <td>0.118351</td>\n",
       "      <td>0.001305</td>\n",
       "      <td>-0.084826</td>\n",
       "      <td>-0.090350</td>\n",
       "      <td>0.237108</td>\n",
       "      <td>...</td>\n",
       "      <td>0.083841</td>\n",
       "      <td>0.057288</td>\n",
       "      <td>0.007720</td>\n",
       "      <td>0.044757</td>\n",
       "      <td>-0.020371</td>\n",
       "      <td>-0.118351</td>\n",
       "      <td>-0.012373</td>\n",
       "      <td>-0.274829</td>\n",
       "      <td>-0.361610</td>\n",
       "      <td>0.403080</td>\n",
       "    </tr>\n",
       "  </tbody>\n",
       "</table>\n",
       "<p>5 rows × 23 columns</p>\n",
       "</div>"
      ],
      "text/plain": [
       "                Total Profit  Product Profit        P1        P2        P3  \\\n",
       "Total Profit        1.000000        0.176583  0.176941 -0.001997 -0.062750   \n",
       "Product Profit      0.176583        1.000000  0.297344 -0.076970  0.166036   \n",
       "P1                  0.176941        0.297344  1.000000 -0.114267  0.147340   \n",
       "P2                 -0.001997       -0.076970 -0.114267  1.000000  0.019521   \n",
       "P3                 -0.062750        0.166036  0.147340  0.019521  1.000000   \n",
       "\n",
       "                      P4        P5        P6        P7        P8  ...  \\\n",
       "Total Profit   -0.021040  0.121648  0.121986 -0.046294  0.179726  ...   \n",
       "Product Profit -0.203073 -0.336468  0.498279 -0.488066  0.423889  ...   \n",
       "P1             -0.379231 -0.157946  0.209861  0.001876 -0.001702  ...   \n",
       "P2              0.013032  0.209615 -0.392208  0.067591 -0.031773  ...   \n",
       "P3              0.118351  0.001305 -0.084826 -0.090350  0.237108  ...   \n",
       "\n",
       "                     P12       P13       P14       P15       P16       P17  \\\n",
       "Total Profit   -0.082832 -0.108622 -0.001836 -0.010643  0.133210  0.212814   \n",
       "Product Profit -0.046764 -0.111897  0.172140 -0.084071  0.038264  0.111699   \n",
       "P1              0.013634 -0.220370 -0.002992 -0.017345 -0.156475 -0.027060   \n",
       "P2             -0.295371  0.105674 -0.200551  0.091994  0.107314 -0.162002   \n",
       "P3              0.083841  0.057288  0.007720  0.044757 -0.020371 -0.118351   \n",
       "\n",
       "                     P18       P19       P20  TotalProductSum  \n",
       "Total Profit    0.040925 -0.082323  0.061084         0.114409  \n",
       "Product Profit  0.530828 -0.029156 -0.037382        -0.027850  \n",
       "P1             -0.014753 -0.188858 -0.164254         0.332539  \n",
       "P2             -0.165701 -0.047814  0.163156         0.727727  \n",
       "P3             -0.012373 -0.274829 -0.361610         0.403080  \n",
       "\n",
       "[5 rows x 23 columns]"
      ]
     },
     "execution_count": 27,
     "metadata": {},
     "output_type": "execute_result"
    }
   ],
   "source": [
    "df.corr().head()"
   ]
  },
  {
   "cell_type": "code",
   "execution_count": 28,
   "metadata": {},
   "outputs": [
    {
     "ename": "AttributeError",
     "evalue": "module 'pandas' has no attribute 'scatter_matrix'",
     "output_type": "error",
     "traceback": [
      "\u001b[0;31m---------------------------------------------------------------------------\u001b[0m",
      "\u001b[0;31mAttributeError\u001b[0m                            Traceback (most recent call last)",
      "\u001b[0;32m<ipython-input-28-4b4e4ff0796e>\u001b[0m in \u001b[0;36m<module>\u001b[0;34m\u001b[0m\n\u001b[0;32m----> 1\u001b[0;31m \u001b[0mpd\u001b[0m\u001b[0;34m.\u001b[0m\u001b[0mscatter_matrix\u001b[0m\u001b[0;34m(\u001b[0m\u001b[0mdf\u001b[0m\u001b[0;34m,\u001b[0m \u001b[0mfigsize\u001b[0m\u001b[0;34m=\u001b[0m\u001b[0;34m(\u001b[0m\u001b[0;36m6\u001b[0m\u001b[0;34m,\u001b[0m \u001b[0;36m6\u001b[0m\u001b[0;34m)\u001b[0m\u001b[0;34m)\u001b[0m\u001b[0;34m\u001b[0m\u001b[0;34m\u001b[0m\u001b[0m\n\u001b[0m\u001b[1;32m      2\u001b[0m \u001b[0mplt\u001b[0m\u001b[0;34m.\u001b[0m\u001b[0mshow\u001b[0m\u001b[0;34m(\u001b[0m\u001b[0;34m)\u001b[0m\u001b[0;34m\u001b[0m\u001b[0;34m\u001b[0m\u001b[0m\n",
      "\u001b[0;32m/opt/anaconda3/lib/python3.7/site-packages/pandas/__init__.py\u001b[0m in \u001b[0;36m__getattr__\u001b[0;34m(name)\u001b[0m\n\u001b[1;32m    212\u001b[0m \u001b[0;34m\u001b[0m\u001b[0m\n\u001b[1;32m    213\u001b[0m             \u001b[0;32mreturn\u001b[0m \u001b[0mPanel\u001b[0m\u001b[0;34m\u001b[0m\u001b[0;34m\u001b[0m\u001b[0m\n\u001b[0;32m--> 214\u001b[0;31m         \u001b[0;32mraise\u001b[0m \u001b[0mAttributeError\u001b[0m\u001b[0;34m(\u001b[0m\u001b[0;34m\"module 'pandas' has no attribute '{}'\"\u001b[0m\u001b[0;34m.\u001b[0m\u001b[0mformat\u001b[0m\u001b[0;34m(\u001b[0m\u001b[0mname\u001b[0m\u001b[0;34m)\u001b[0m\u001b[0;34m)\u001b[0m\u001b[0;34m\u001b[0m\u001b[0;34m\u001b[0m\u001b[0m\n\u001b[0m\u001b[1;32m    215\u001b[0m \u001b[0;34m\u001b[0m\u001b[0m\n\u001b[1;32m    216\u001b[0m \u001b[0;34m\u001b[0m\u001b[0m\n",
      "\u001b[0;31mAttributeError\u001b[0m: module 'pandas' has no attribute 'scatter_matrix'"
     ]
    }
   ],
   "source": [
    "pd.scatter_matrix(df, figsize=(6, 6))\n",
    "plt.show()"
   ]
  },
  {
   "cell_type": "code",
   "execution_count": 29,
   "metadata": {},
   "outputs": [
    {
     "data": {
      "text/plain": [
       "<matplotlib.colorbar.Colorbar at 0x1a1c16c110>"
      ]
     },
     "execution_count": 29,
     "metadata": {},
     "output_type": "execute_result"
    },
    {
     "data": {
      "image/png": "[encoded data removed]",
      "text/plain": [
       "<Figure size 288x288 with 2 Axes>"
      ]
     },
     "metadata": {
      "needs_background": "light"
     },
     "output_type": "display_data"
    }
   ],
   "source": [
    "plt.matshow(df.corr())\n",
    "plt.xticks(range(len(df.columns)), df.columns)\n",
    "plt.yticks(range(len(df.columns)), df.columns)\n",
    "plt.colorbar()\n"
   ]
  },
  {
   "cell_type": "code",
   "execution_count": 30,
   "metadata": {},
   "outputs": [
    {
     "data": {
      "image/png": "[encoded data removed]",
      "text/plain": [
       "<Figure size 432x288 with 1 Axes>"
      ]
     },
     "metadata": {
      "needs_background": "light"
     },
     "output_type": "display_data"
    }
   ],
   "source": [
    "ax = df.plot.bar(x='Total Profit', y='P1')"
   ]
  },
  {
   "cell_type": "code",
   "execution_count": 31,
   "metadata": {},
   "outputs": [
    {
     "data": {
      "text/html": [
       "<div>\n",
       "<style scoped>\n",
       "    .dataframe tbody tr th:only-of-type {\n",
       "        vertical-align: middle;\n",
       "    }\n",
       "\n",
       "    .dataframe tbody tr th {\n",
       "        vertical-align: top;\n",
       "    }\n",
       "\n",
       "    .dataframe thead th {\n",
       "        text-align: right;\n",
       "    }\n",
       "</style>\n",
       "<table border=\"1\" class=\"dataframe\">\n",
       "  <thead>\n",
       "    <tr style=\"text-align: right;\">\n",
       "      <th></th>\n",
       "      <th>P1</th>\n",
       "      <th>P2</th>\n",
       "      <th>P3</th>\n",
       "      <th>P4</th>\n",
       "      <th>P5</th>\n",
       "      <th>P6</th>\n",
       "      <th>P7</th>\n",
       "      <th>P8</th>\n",
       "      <th>P9</th>\n",
       "      <th>P10</th>\n",
       "      <th>P11</th>\n",
       "      <th>P12</th>\n",
       "      <th>P13</th>\n",
       "      <th>P14</th>\n",
       "      <th>P15</th>\n",
       "      <th>P16</th>\n",
       "      <th>P17</th>\n",
       "      <th>P18</th>\n",
       "      <th>P19</th>\n",
       "      <th>P20</th>\n",
       "    </tr>\n",
       "  </thead>\n",
       "  <tbody>\n",
       "    <tr>\n",
       "      <td>0</td>\n",
       "      <td>5</td>\n",
       "      <td>2</td>\n",
       "      <td>12</td>\n",
       "      <td>2</td>\n",
       "      <td>2</td>\n",
       "      <td>12</td>\n",
       "      <td>2</td>\n",
       "      <td>12</td>\n",
       "      <td>2</td>\n",
       "      <td>7</td>\n",
       "      <td>5</td>\n",
       "      <td>2</td>\n",
       "      <td>5</td>\n",
       "      <td>7</td>\n",
       "      <td>7</td>\n",
       "      <td>12</td>\n",
       "      <td>5</td>\n",
       "      <td>7</td>\n",
       "      <td>2</td>\n",
       "      <td>7</td>\n",
       "    </tr>\n",
       "    <tr>\n",
       "      <td>1</td>\n",
       "      <td>2</td>\n",
       "      <td>12</td>\n",
       "      <td>7</td>\n",
       "      <td>2</td>\n",
       "      <td>2</td>\n",
       "      <td>12</td>\n",
       "      <td>12</td>\n",
       "      <td>2</td>\n",
       "      <td>2</td>\n",
       "      <td>7</td>\n",
       "      <td>12</td>\n",
       "      <td>2</td>\n",
       "      <td>5</td>\n",
       "      <td>7</td>\n",
       "      <td>7</td>\n",
       "      <td>7</td>\n",
       "      <td>7</td>\n",
       "      <td>5</td>\n",
       "      <td>2</td>\n",
       "      <td>7</td>\n",
       "    </tr>\n",
       "    <tr>\n",
       "      <td>2</td>\n",
       "      <td>12</td>\n",
       "      <td>12</td>\n",
       "      <td>12</td>\n",
       "      <td>2</td>\n",
       "      <td>5</td>\n",
       "      <td>2</td>\n",
       "      <td>7</td>\n",
       "      <td>2</td>\n",
       "      <td>2</td>\n",
       "      <td>7</td>\n",
       "      <td>7</td>\n",
       "      <td>2</td>\n",
       "      <td>5</td>\n",
       "      <td>7</td>\n",
       "      <td>7</td>\n",
       "      <td>7</td>\n",
       "      <td>2</td>\n",
       "      <td>5</td>\n",
       "      <td>2</td>\n",
       "      <td>7</td>\n",
       "    </tr>\n",
       "    <tr>\n",
       "      <td>3</td>\n",
       "      <td>7</td>\n",
       "      <td>12</td>\n",
       "      <td>12</td>\n",
       "      <td>2</td>\n",
       "      <td>5</td>\n",
       "      <td>2</td>\n",
       "      <td>2</td>\n",
       "      <td>12</td>\n",
       "      <td>5</td>\n",
       "      <td>7</td>\n",
       "      <td>7</td>\n",
       "      <td>2</td>\n",
       "      <td>5</td>\n",
       "      <td>7</td>\n",
       "      <td>7</td>\n",
       "      <td>12</td>\n",
       "      <td>12</td>\n",
       "      <td>5</td>\n",
       "      <td>2</td>\n",
       "      <td>5</td>\n",
       "    </tr>\n",
       "    <tr>\n",
       "      <td>4</td>\n",
       "      <td>7</td>\n",
       "      <td>12</td>\n",
       "      <td>12</td>\n",
       "      <td>2</td>\n",
       "      <td>2</td>\n",
       "      <td>12</td>\n",
       "      <td>2</td>\n",
       "      <td>12</td>\n",
       "      <td>2</td>\n",
       "      <td>7</td>\n",
       "      <td>5</td>\n",
       "      <td>2</td>\n",
       "      <td>12</td>\n",
       "      <td>7</td>\n",
       "      <td>7</td>\n",
       "      <td>12</td>\n",
       "      <td>7</td>\n",
       "      <td>12</td>\n",
       "      <td>5</td>\n",
       "      <td>5</td>\n",
       "    </tr>\n",
       "  </tbody>\n",
       "</table>\n",
       "</div>"
      ],
      "text/plain": [
       "   P1  P2  P3  P4  P5  P6  P7  P8  P9  P10  P11  P12  P13  P14  P15  P16  P17  \\\n",
       "0   5   2  12   2   2  12   2  12   2    7    5    2    5    7    7   12    5   \n",
       "1   2  12   7   2   2  12  12   2   2    7   12    2    5    7    7    7    7   \n",
       "2  12  12  12   2   5   2   7   2   2    7    7    2    5    7    7    7    2   \n",
       "3   7  12  12   2   5   2   2  12   5    7    7    2    5    7    7   12   12   \n",
       "4   7  12  12   2   2  12   2  12   2    7    5    2   12    7    7   12    7   \n",
       "\n",
       "   P18  P19  P20  \n",
       "0    7    2    7  \n",
       "1    5    2    7  \n",
       "2    5    2    7  \n",
       "3    5    2    5  \n",
       "4   12    5    5  "
      ]
     },
     "execution_count": 31,
     "metadata": {},
     "output_type": "execute_result"
    }
   ],
   "source": [
    "df.columns\n",
    "df.columns[3]\n",
    "d=df.iloc[:,4:-1]\n",
    "d.head()"
   ]
  },
  {
   "cell_type": "code",
   "execution_count": 32,
   "metadata": {},
   "outputs": [
    {
     "data": {
      "text/plain": [
       "0      5.0\n",
       "1     20.0\n",
       "2     20.0\n",
       "3     20.0\n",
       "4     -5.0\n",
       "5     15.0\n",
       "6      5.0\n",
       "7      5.0\n",
       "8     10.0\n",
       "9     10.0\n",
       "10    15.0\n",
       "11     0.0\n",
       "12    20.0\n",
       "13    20.0\n",
       "14    25.0\n",
       "15   -20.0\n",
       "16     0.0\n",
       "17    15.0\n",
       "18   -20.0\n",
       "19    20.0\n",
       "20    30.0\n",
       "21     5.0\n",
       "22    10.0\n",
       "23    15.0\n",
       "24    10.0\n",
       "25    10.0\n",
       "26     5.0\n",
       "27     5.0\n",
       "28    15.0\n",
       "29     5.0\n",
       "30    10.0\n",
       "31    20.0\n",
       "32     0.0\n",
       "33     0.0\n",
       "34    10.0\n",
       "35     0.0\n",
       "36     5.0\n",
       "37    10.0\n",
       "38    45.0\n",
       "39    35.0\n",
       "40     0.0\n",
       "41     0.0\n",
       "42    10.0\n",
       "43    10.0\n",
       "44    10.0\n",
       "45    -5.0\n",
       "46    20.0\n",
       "47    20.0\n",
       "48   -15.0\n",
       "49     0.0\n",
       "50     5.0\n",
       "51    -5.0\n",
       "52     0.0\n",
       "dtype: float64"
      ]
     },
     "execution_count": 32,
     "metadata": {},
     "output_type": "execute_result"
    }
   ],
   "source": [
    "df[\"Total Profit\"] - df[\"Product Profit\"]"
   ]
  },
  {
   "cell_type": "code",
   "execution_count": 33,
   "metadata": {},
   "outputs": [
    {
     "ename": "NameError",
     "evalue": "name 'b' is not defined",
     "output_type": "error",
     "traceback": [
      "\u001b[0;31m---------------------------------------------------------------------------\u001b[0m",
      "\u001b[0;31mNameError\u001b[0m                                 Traceback (most recent call last)",
      "\u001b[0;32m<ipython-input-33-e20038a25d5a>\u001b[0m in \u001b[0;36m<module>\u001b[0;34m\u001b[0m\n\u001b[0;32m----> 1\u001b[0;31m \u001b[0mb\u001b[0m\u001b[0;34m.\u001b[0m\u001b[0mhead\u001b[0m\u001b[0;34m(\u001b[0m\u001b[0;34m)\u001b[0m\u001b[0;34m\u001b[0m\u001b[0;34m\u001b[0m\u001b[0m\n\u001b[0m",
      "\u001b[0;31mNameError\u001b[0m: name 'b' is not defined"
     ]
    }
   ],
   "source": [
    "b.head()"
   ]
  },
  {
   "cell_type": "code",
   "execution_count": 34,
   "metadata": {},
   "outputs": [
    {
     "data": {
      "text/plain": [
       "7     25\n",
       "12    13\n",
       "5     10\n",
       "2      5\n",
       "Name: P1, dtype: int64"
      ]
     },
     "execution_count": 34,
     "metadata": {},
     "output_type": "execute_result"
    }
   ],
   "source": [
    "df.P1.value_counts()"
   ]
  },
  {
   "cell_type": "code",
   "execution_count": 35,
   "metadata": {},
   "outputs": [
    {
     "data": {
      "text/plain": [
       "12    36\n",
       "5      8\n",
       "2      7\n",
       "7      2\n",
       "Name: P2, dtype: int64"
      ]
     },
     "execution_count": 35,
     "metadata": {},
     "output_type": "execute_result"
    }
   ],
   "source": [
    "df.P2.value_counts()"
   ]
  },
  {
   "cell_type": "code",
   "execution_count": 36,
   "metadata": {},
   "outputs": [
    {
     "data": {
      "text/plain": [
       "12    48\n",
       "7      5\n",
       "Name: P3, dtype: int64"
      ]
     },
     "execution_count": 36,
     "metadata": {},
     "output_type": "execute_result"
    }
   ],
   "source": [
    "df.P3.value_counts()"
   ]
  },
  {
   "cell_type": "code",
   "execution_count": 37,
   "metadata": {},
   "outputs": [
    {
     "data": {
      "text/plain": [
       "5     24\n",
       "7     21\n",
       "2      7\n",
       "12     1\n",
       "Name: P20, dtype: int64"
      ]
     },
     "execution_count": 37,
     "metadata": {},
     "output_type": "execute_result"
    }
   ],
   "source": [
    "df.P20.value_counts()"
   ]
  },
  {
   "cell_type": "code",
   "execution_count": 38,
   "metadata": {},
   "outputs": [
    {
     "name": "stdout",
     "output_type": "stream",
     "text": [
      "Row 0: P1 eq P11 eq P13 eq P17; P10 eq P14 eq P15 eq P18 eq P20; P2 eq P4 eq P5 eq P7 eq P9 eq P12 eq P19; P3 eq P6 eq P8 eq P16;\n",
      "Row 1: P1 eq P4 eq P5 eq P8 eq P9 eq P12 eq P19; P13 eq P18; P2 eq P6 eq P7 eq P11; P3 eq P10 eq P14 eq P15 eq P16 eq P17 eq P20;\n",
      "Row 2: P1 eq P2 eq P3; P5 eq P13 eq P18; P7 eq P10 eq P11 eq P14 eq P15 eq P16 eq P20; TotalProductSum eq P4 eq P6 eq P8 eq P9 eq P12 eq P17 eq P19;\n",
      "Row 3: P1 eq P10 eq P11 eq P14 eq P15; P2 eq P3 eq P8 eq P16 eq P17; P4 eq P6 eq P7 eq P12 eq P19; P5 eq P9 eq P13 eq P18 eq P20;\n",
      "Row 4: P1 eq P10 eq P14 eq P15 eq P17; P11 eq P19 eq P20; P2 eq P3 eq P6 eq P8 eq P13 eq P16 eq P18; P4 eq P5 eq P7 eq P9 eq P12;\n",
      "Row 5: P1 eq P6 eq P7 eq P9 eq P12 eq P17 eq P19; P10 eq P14 eq P15 eq P16 eq P18; P2 eq P3 eq P8 eq P13; TotalProductSum eq P4 eq P5 eq P11 eq P20;\n",
      "Row 6: P1 eq P6 eq P7 eq P9 eq P12 eq P19; P10 eq P14 eq P15 eq P17 eq P18; P2 eq P3 eq P8 eq P13 eq P16; P4 eq P5 eq P11 eq P20;\n",
      "Row 7: P2 eq P3 eq P6 eq P8; P4 eq P5 eq P7 eq P12 eq P17 eq P19; P9 eq P11 eq P13 eq P14 eq P20; TotalProductSum eq P1 eq P10 eq P15 eq P16 eq P18;\n",
      "Row 8: P1 eq P2 eq P3 eq P16; P10 eq P11 eq P14 eq P15 eq P17 eq P20; P4 eq P6 eq P7 eq P8 eq P9 eq P12 eq P19; P5 eq P13 eq P18;\n",
      "Row 9: P1 eq P2 eq P3 eq P16; P10 eq P11 eq P14 eq P15 eq P20; P4 eq P6 eq P7 eq P8 eq P9 eq P12 eq P17 eq P19; P5 eq P13 eq P18;\n",
      "Row 10: P1 eq P14 eq P15 eq P16 eq P17 eq P18; P2 eq P4 eq P5 eq P9 eq P12 eq P13 eq P19 eq P20; P3 eq P6 eq P7 eq P8 eq P10;\n",
      "Row 11: P1 eq P6 eq P13 eq P18 eq P20; P10 eq P11 eq P14 eq P15 eq P17; P2 eq P3 eq P8 eq P16; P4 eq P5 eq P7 eq P9 eq P12 eq P19; Total Profit eq Product Profit;\n",
      "Row 12: P1 eq P2 eq P5 eq P11 eq P13 eq P18; P4 eq P10 eq P14 eq P15 eq P17 eq P20; P6 eq P7 eq P8 eq P9 eq P12 eq P19; TotalProductSum eq P3 eq P16;\n",
      "Row 13: P1 eq P10 eq P14 eq P15; P2 eq P3 eq P8 eq P11 eq P16; P4 eq P6 eq P7 eq P9 eq P12 eq P19; P5 eq P13 eq P17 eq P18 eq P20;\n",
      "Row 14: P1 eq P10 eq P14 eq P15 eq P20; P2 eq P3 eq P8 eq P11 eq P16; P4 eq P6 eq P7 eq P9 eq P12 eq P19; P5 eq P13 eq P17 eq P18;\n",
      "Row 15: P1 eq P10 eq P14 eq P15 eq P16 eq P18; P11 eq P13 eq P20; P2 eq P3 eq P6 eq P8; P4 eq P5 eq P7 eq P9 eq P12 eq P17 eq P19;\n",
      "Row 16: P1 eq P10 eq P14 eq P15 eq P16 eq P18; P11 eq P13 eq P20; P2 eq P3 eq P6 eq P8; P4 eq P5 eq P7 eq P9 eq P12 eq P17 eq P19; Total Profit eq Product Profit;\n",
      "Row 17: P1 eq P2 eq P3 eq P6 eq P7 eq P8 eq P9 eq P11; P10 eq P14 eq P15 eq P16 eq P17 eq P20; P13 eq P18; P4 eq P5 eq P12 eq P19;\n",
      "Row 18: P1 eq P10 eq P11 eq P14 eq P15 eq P17 eq P18; P13 eq P20; P2 eq P3 eq P6 eq P8 eq P16; P4 eq P5 eq P7 eq P9 eq P12 eq P19;\n",
      "Row 19: P1 eq P4 eq P5 eq P7 eq P8 eq P9 eq P11 eq P12; P2 eq P13 eq P19; P3 eq P10 eq P14 eq P15 eq P17 eq P18; P6 eq P16 eq P20;\n",
      "Row 20: P1 eq P10 eq P11 eq P15; P2 eq P3 eq P7 eq P8 eq P16; P4 eq P6 eq P9 eq P12 eq P19 eq P20; P5 eq P13 eq P14 eq P17 eq P18;\n",
      "Row 21: P1 eq P10 eq P14 eq P15 eq P17 eq P20; P2 eq P13 eq P18; P3 eq P6 eq P8 eq P16; P4 eq P5 eq P7 eq P9 eq P11 eq P12 eq P19;\n",
      "Row 22: P1 eq P3 eq P6 eq P8; P10 eq P14 eq P15 eq P16 eq P17 eq P18; P11 eq P13; P2 eq P4 eq P5 eq P7 eq P9 eq P12 eq P19 eq P20;\n",
      "Row 23: P1 eq P10 eq P11 eq P14 eq P17; P2 eq P3 eq P8 eq P15 eq P16; P4 eq P6 eq P7 eq P12 eq P19; P5 eq P9 eq P13 eq P18 eq P20;\n",
      "Row 24: P1 eq P3 eq P6 eq P8; P10 eq P14 eq P15 eq P16 eq P17 eq P18; P11 eq P13; P2 eq P4 eq P5 eq P7 eq P9 eq P12 eq P19 eq P20;\n",
      "Row 25: P1 eq P11 eq P13; P10 eq P14 eq P15 eq P17 eq P18 eq P20; P2 eq P3 eq P6 eq P8 eq P16; P4 eq P5 eq P7 eq P9 eq P12 eq P19;\n",
      "Row 26: P1 eq P2 eq P3 eq P6 eq P8 eq P16; P10 eq P14 eq P15 eq P17 eq P18 eq P20; P11 eq P13; P4 eq P5 eq P7 eq P9 eq P12 eq P19;\n",
      "Row 27: P1 eq P3 eq P10 eq P11 eq P14 eq P15 eq P17 eq P18; P2 eq P5 eq P13 eq P20; P4 eq P7 eq P12 eq P19; P6 eq P8 eq P9 eq P16;\n",
      "Row 28: P1 eq P2 eq P6 eq P8 eq P16; P3 eq P10 eq P14 eq P15 eq P17 eq P18 eq P20; P4 eq P5 eq P7 eq P9 eq P11 eq P12 eq P19;\n",
      "Row 29: P1 eq P5 eq P6 eq P7 eq P9 eq P19; P10 eq P14 eq P15 eq P17 eq P18; P11 eq P12 eq P13 eq P20; P2 eq P3 eq P4 eq P8 eq P16;\n",
      "Row 30: P1 eq P10 eq P14 eq P15 eq P17; P2 eq P5 eq P11 eq P13 eq P18 eq P20; P3 eq P6 eq P8 eq P16; P4 eq P7 eq P9 eq P12 eq P19;\n",
      "Row 31: P1 eq P11 eq P13 eq P20; P10 eq P14 eq P15 eq P17 eq P18; P2 eq P3 eq P5 eq P8 eq P16; P4 eq P6 eq P7 eq P9 eq P12 eq P19;\n",
      "Row 32: P1 eq P6 eq P13 eq P18 eq P20; P10 eq P11 eq P14 eq P15 eq P17; P2 eq P3 eq P8 eq P16; P4 eq P5 eq P7 eq P9 eq P12 eq P19; Total Profit eq Product Profit;\n",
      "Row 33: P1 eq P2 eq P3 eq P6 eq P8 eq P10 eq P16; P14 eq P15 eq P17 eq P18 eq P20; P4 eq P5 eq P7 eq P9 eq P11 eq P12 eq P19; Total Profit eq Product Profit;\n",
      "Row 34: P1 eq P10 eq P14 eq P15 eq P17 eq P18 eq P20; P2 eq P3 eq P6 eq P8 eq P16; P4 eq P9 eq P11 eq P12 eq P19; P5 eq P7 eq P13;\n",
      "Row 35: P1 eq P10 eq P11 eq P14 eq P15 eq P17; P13 eq P18 eq P20; P2 eq P3 eq P6 eq P8 eq P16; P4 eq P5 eq P7 eq P9 eq P12 eq P19; Total Profit eq Product Profit; TotalProductSum eq TotalProductSum;\n",
      "Row 36: P1 eq P10 eq P11 eq P14 eq P15 eq P17; P13 eq P18 eq P20; P2 eq P3 eq P6 eq P16; P4 eq P5 eq P7 eq P8 eq P9 eq P12 eq P19;\n",
      "Row 37: P1 eq P6 eq P7 eq P10 eq P11 eq P14 eq P15 eq P17; P18 eq P20; P2 eq P3 eq P8 eq P16; P4 eq P5 eq P9 eq P12 eq P13 eq P19;\n",
      "Row 38: P1 eq P11 eq P14 eq P15 eq P17 eq P20; P2 eq P3 eq P6 eq P8 eq P10 eq P16; P4 eq P7 eq P13 eq P18; P5 eq P9 eq P12 eq P19; TotalProductSum eq TotalProductSum;\n",
      "Row 39: P1 eq P2 eq P7 eq P10 eq P12 eq P14 eq P15; P3 eq P6 eq P13 eq P16; P4 eq P8 eq P11 eq P17 eq P18; P5 eq P9 eq P19 eq P20;\n",
      "Row 40: P1 eq P11 eq P13; P10 eq P14 eq P15 eq P17 eq P18 eq P20; P2 eq P4 eq P5 eq P7 eq P9 eq P12 eq P19; P3 eq P6 eq P8 eq P16; Total Profit eq Product Profit;\n",
      "Row 41: P1 eq P4 eq P10 eq P15 eq P17 eq P18; P2 eq P13 eq P20; P3 eq P6 eq P8 eq P11 eq P14 eq P16; P5 eq P7 eq P9 eq P12 eq P19; Total Profit eq Product Profit;\n",
      "Row 42: P1 eq P10 eq P14 eq P15 eq P17 eq P18 eq P20; P2 eq P5 eq P13; P3 eq P6 eq P8 eq P11 eq P16; P4 eq P7 eq P9 eq P12 eq P19;\n",
      "Row 43: P1 eq P11 eq P14 eq P15 eq P16 eq P17 eq P20; P2 eq P3 eq P6 eq P8 eq P10; P4 eq P5 eq P9 eq P12 eq P19; P7 eq P13 eq P18;\n",
      "Row 44: P1 eq P5 eq P13 eq P18; P10 eq P14 eq P15 eq P17 eq P20; P2 eq P3 eq P6 eq P8 eq P11 eq P16; P4 eq P7 eq P9 eq P12 eq P19;\n",
      "Row 45: P1 eq P3 eq P6 eq P8; P10 eq P14 eq P15 eq P16 eq P17 eq P18; P11 eq P13; P2 eq P4 eq P5 eq P7 eq P9 eq P12 eq P19 eq P20;\n",
      "Row 46: P1 eq P4 eq P5 eq P18; P10 eq P11 eq P14 eq P15 eq P17; P2 eq P3 eq P8 eq P16; P6 eq P7 eq P9 eq P12 eq P13 eq P19 eq P20;\n",
      "Row 47: P1 eq P3 eq P10 eq P14 eq P15 eq P17 eq P20; P2 eq P8 eq P16; P4 eq P6 eq P7 eq P9 eq P11 eq P12 eq P19; P5 eq P13 eq P18;\n",
      "Row 48: P1 eq P2 eq P3 eq P6 eq P8 eq P16; P10 eq P14 eq P15 eq P17 eq P18; P11 eq P13 eq P20; P4 eq P5 eq P7 eq P9 eq P12 eq P19;\n",
      "Row 49: P1 eq P3 eq P6 eq P8 eq P12 eq P16; P10 eq P14 eq P15 eq P17; P13 eq P18 eq P20; P2 eq P4 eq P5 eq P7 eq P9 eq P11 eq P19; Total Profit eq Product Profit;\n",
      "Row 50: P1 eq P2 eq P11 eq P13; P10 eq P14 eq P15 eq P17 eq P18 eq P20; P3 eq P6 eq P8 eq P12 eq P16; P4 eq P5 eq P7 eq P9 eq P19;\n",
      "Row 51: P1 eq P10 eq P14 eq P15 eq P17 eq P18; P13 eq P20; P2 eq P3 eq P6 eq P8 eq P16; P4 eq P5 eq P7 eq P9 eq P11 eq P12 eq P19;\n",
      "Row 52: P1 eq P3 eq P6 eq P8 eq P16; P11 eq P13 eq P20; P2 eq P10 eq P14 eq P15 eq P17 eq P18; P4 eq P5 eq P7 eq P9 eq P12 eq P19; Total Profit eq Product Profit;\n"
     ]
    }
   ],
   "source": [
    "for row in df.itertuples():\n",
    "    values = list(set(row))  # Get the unique values in the row\n",
    "    equal_columns = []  # Keep track of column names that are the same\n",
    "    for v in values:\n",
    "        # Column names that have this value\n",
    "        columns = [df.columns[i-1] for i, x in enumerate(row) if x == v]\n",
    "        if len(columns) > 1:\n",
    "            # If more than 1 column with this value, append to the list\n",
    "            equal_columns.append(' eq '.join(columns))\n",
    "    if len(equal_columns) > 0:\n",
    "        # We have at least 1 set of equal columns\n",
    "        equal_columns.sort()  # So we always start printing in lexicographic order\n",
    "        print('Row {0}: {1};'.format(row.Index, '; '.join(equal_columns)))"
   ]
  },
  {
   "cell_type": "code",
   "execution_count": 39,
   "metadata": {},
   "outputs": [
    {
     "data": {
      "text/html": [
       "<div>\n",
       "<style scoped>\n",
       "    .dataframe tbody tr th:only-of-type {\n",
       "        vertical-align: middle;\n",
       "    }\n",
       "\n",
       "    .dataframe tbody tr th {\n",
       "        vertical-align: top;\n",
       "    }\n",
       "\n",
       "    .dataframe thead th {\n",
       "        text-align: right;\n",
       "    }\n",
       "</style>\n",
       "<table border=\"1\" class=\"dataframe\">\n",
       "  <thead>\n",
       "    <tr style=\"text-align: right;\">\n",
       "      <th></th>\n",
       "      <th>Total Profit</th>\n",
       "    </tr>\n",
       "  </thead>\n",
       "  <tbody>\n",
       "    <tr>\n",
       "      <td>0</td>\n",
       "      <td>85.0</td>\n",
       "    </tr>\n",
       "    <tr>\n",
       "      <td>1</td>\n",
       "      <td>85.0</td>\n",
       "    </tr>\n",
       "    <tr>\n",
       "      <td>2</td>\n",
       "      <td>80.0</td>\n",
       "    </tr>\n",
       "    <tr>\n",
       "      <td>3</td>\n",
       "      <td>85.0</td>\n",
       "    </tr>\n",
       "    <tr>\n",
       "      <td>4</td>\n",
       "      <td>80.0</td>\n",
       "    </tr>\n",
       "  </tbody>\n",
       "</table>\n",
       "</div>"
      ],
      "text/plain": [
       "   Total Profit\n",
       "0          85.0\n",
       "1          85.0\n",
       "2          80.0\n",
       "3          85.0\n",
       "4          80.0"
      ]
     },
     "execution_count": 39,
     "metadata": {},
     "output_type": "execute_result"
    }
   ],
   "source": [
    "# SPlit data\n",
    "X=df.iloc[:,3:-2]\n",
    "Y=df.iloc[:,2:3]\n",
    "X.head()\n",
    "Y.head()"
   ]
  },
  {
   "cell_type": "code",
   "execution_count": 40,
   "metadata": {},
   "outputs": [],
   "source": [
    "from sklearn import datasets, linear_model\n",
    "from sklearn.model_selection import train_test_split\n",
    "X_train, X_test, y_train, y_test = train_test_split(X, Y, test_size=0.2)\n"
   ]
  },
  {
   "cell_type": "code",
   "execution_count": 41,
   "metadata": {},
   "outputs": [
    {
     "data": {
      "text/plain": [
       "((42, 20), (42, 1))"
      ]
     },
     "execution_count": 41,
     "metadata": {},
     "output_type": "execute_result"
    }
   ],
   "source": [
    "X_train.shape, y_train.shape\n"
   ]
  },
  {
   "cell_type": "code",
   "execution_count": 42,
   "metadata": {},
   "outputs": [
    {
     "data": {
      "text/html": [
       "<div>\n",
       "<style scoped>\n",
       "    .dataframe tbody tr th:only-of-type {\n",
       "        vertical-align: middle;\n",
       "    }\n",
       "\n",
       "    .dataframe tbody tr th {\n",
       "        vertical-align: top;\n",
       "    }\n",
       "\n",
       "    .dataframe thead th {\n",
       "        text-align: right;\n",
       "    }\n",
       "</style>\n",
       "<table border=\"1\" class=\"dataframe\">\n",
       "  <thead>\n",
       "    <tr style=\"text-align: right;\">\n",
       "      <th></th>\n",
       "      <th>Product Profit</th>\n",
       "      <th>P1</th>\n",
       "      <th>P2</th>\n",
       "      <th>P3</th>\n",
       "      <th>P4</th>\n",
       "      <th>P5</th>\n",
       "      <th>P6</th>\n",
       "      <th>P7</th>\n",
       "      <th>P8</th>\n",
       "      <th>P9</th>\n",
       "      <th>P10</th>\n",
       "      <th>P11</th>\n",
       "      <th>P12</th>\n",
       "      <th>P13</th>\n",
       "      <th>P14</th>\n",
       "      <th>P15</th>\n",
       "      <th>P16</th>\n",
       "      <th>P17</th>\n",
       "      <th>P18</th>\n",
       "      <th>P19</th>\n",
       "    </tr>\n",
       "  </thead>\n",
       "  <tbody>\n",
       "    <tr>\n",
       "      <td>14</td>\n",
       "      <td>65</td>\n",
       "      <td>7</td>\n",
       "      <td>12</td>\n",
       "      <td>12</td>\n",
       "      <td>2</td>\n",
       "      <td>5</td>\n",
       "      <td>2</td>\n",
       "      <td>2</td>\n",
       "      <td>12</td>\n",
       "      <td>2</td>\n",
       "      <td>7</td>\n",
       "      <td>12</td>\n",
       "      <td>2</td>\n",
       "      <td>5</td>\n",
       "      <td>7</td>\n",
       "      <td>7</td>\n",
       "      <td>12</td>\n",
       "      <td>5</td>\n",
       "      <td>5</td>\n",
       "      <td>2</td>\n",
       "    </tr>\n",
       "    <tr>\n",
       "      <td>11</td>\n",
       "      <td>80</td>\n",
       "      <td>5</td>\n",
       "      <td>12</td>\n",
       "      <td>12</td>\n",
       "      <td>2</td>\n",
       "      <td>2</td>\n",
       "      <td>5</td>\n",
       "      <td>2</td>\n",
       "      <td>12</td>\n",
       "      <td>2</td>\n",
       "      <td>7</td>\n",
       "      <td>7</td>\n",
       "      <td>2</td>\n",
       "      <td>5</td>\n",
       "      <td>7</td>\n",
       "      <td>7</td>\n",
       "      <td>12</td>\n",
       "      <td>7</td>\n",
       "      <td>5</td>\n",
       "      <td>2</td>\n",
       "    </tr>\n",
       "    <tr>\n",
       "      <td>9</td>\n",
       "      <td>70</td>\n",
       "      <td>12</td>\n",
       "      <td>12</td>\n",
       "      <td>12</td>\n",
       "      <td>2</td>\n",
       "      <td>5</td>\n",
       "      <td>2</td>\n",
       "      <td>2</td>\n",
       "      <td>2</td>\n",
       "      <td>2</td>\n",
       "      <td>7</td>\n",
       "      <td>7</td>\n",
       "      <td>2</td>\n",
       "      <td>5</td>\n",
       "      <td>7</td>\n",
       "      <td>7</td>\n",
       "      <td>12</td>\n",
       "      <td>2</td>\n",
       "      <td>5</td>\n",
       "      <td>2</td>\n",
       "    </tr>\n",
       "    <tr>\n",
       "      <td>6</td>\n",
       "      <td>75</td>\n",
       "      <td>2</td>\n",
       "      <td>12</td>\n",
       "      <td>12</td>\n",
       "      <td>5</td>\n",
       "      <td>5</td>\n",
       "      <td>2</td>\n",
       "      <td>2</td>\n",
       "      <td>12</td>\n",
       "      <td>2</td>\n",
       "      <td>7</td>\n",
       "      <td>5</td>\n",
       "      <td>2</td>\n",
       "      <td>12</td>\n",
       "      <td>7</td>\n",
       "      <td>7</td>\n",
       "      <td>12</td>\n",
       "      <td>7</td>\n",
       "      <td>7</td>\n",
       "      <td>2</td>\n",
       "    </tr>\n",
       "    <tr>\n",
       "      <td>20</td>\n",
       "      <td>55</td>\n",
       "      <td>7</td>\n",
       "      <td>12</td>\n",
       "      <td>12</td>\n",
       "      <td>2</td>\n",
       "      <td>5</td>\n",
       "      <td>2</td>\n",
       "      <td>12</td>\n",
       "      <td>12</td>\n",
       "      <td>2</td>\n",
       "      <td>7</td>\n",
       "      <td>7</td>\n",
       "      <td>2</td>\n",
       "      <td>5</td>\n",
       "      <td>5</td>\n",
       "      <td>7</td>\n",
       "      <td>12</td>\n",
       "      <td>5</td>\n",
       "      <td>5</td>\n",
       "      <td>2</td>\n",
       "    </tr>\n",
       "  </tbody>\n",
       "</table>\n",
       "</div>"
      ],
      "text/plain": [
       "    Product Profit  P1  P2  P3  P4  P5  P6  P7  P8  P9  P10  P11  P12  P13  \\\n",
       "14              65   7  12  12   2   5   2   2  12   2    7   12    2    5   \n",
       "11              80   5  12  12   2   2   5   2  12   2    7    7    2    5   \n",
       "9               70  12  12  12   2   5   2   2   2   2    7    7    2    5   \n",
       "6               75   2  12  12   5   5   2   2  12   2    7    5    2   12   \n",
       "20              55   7  12  12   2   5   2  12  12   2    7    7    2    5   \n",
       "\n",
       "    P14  P15  P16  P17  P18  P19  \n",
       "14    7    7   12    5    5    2  \n",
       "11    7    7   12    7    5    2  \n",
       "9     7    7   12    2    5    2  \n",
       "6     7    7   12    7    7    2  \n",
       "20    5    7   12    5    5    2  "
      ]
     },
     "execution_count": 42,
     "metadata": {},
     "output_type": "execute_result"
    }
   ],
   "source": [
    "X_train.head()"
   ]
  },
  {
   "cell_type": "code",
   "execution_count": 43,
   "metadata": {},
   "outputs": [
    {
     "data": {
      "text/plain": [
       "((11, 20), (11, 1))"
      ]
     },
     "execution_count": 43,
     "metadata": {},
     "output_type": "execute_result"
    }
   ],
   "source": [
    "X_test.shape, y_test.shape"
   ]
  },
  {
   "cell_type": "code",
   "execution_count": 44,
   "metadata": {},
   "outputs": [],
   "source": [
    "# fit a linear model\n",
    "lm = linear_model.LinearRegression()\n",
    "model = lm.fit(X_train, y_train)\n",
    "predictions = lm.predict(X_test)"
   ]
  },
  {
   "cell_type": "code",
   "execution_count": 45,
   "metadata": {
    "scrolled": true
   },
   "outputs": [
    {
     "data": {
      "text/plain": [
       "array([[88.27764313],\n",
       "       [89.95898608],\n",
       "       [89.78036927],\n",
       "       [92.76086051],\n",
       "       [79.0711876 ],\n",
       "       [79.74802847],\n",
       "       [78.13386204],\n",
       "       [79.16981716],\n",
       "       [78.65738538],\n",
       "       [80.28487787],\n",
       "       [90.45797803]])"
      ]
     },
     "execution_count": 45,
     "metadata": {},
     "output_type": "execute_result"
    }
   ],
   "source": [
    "predictions"
   ]
  },
  {
   "cell_type": "code",
   "execution_count": 46,
   "metadata": {},
   "outputs": [
    {
     "data": {
      "text/plain": [
       "0.42579301639682077"
      ]
     },
     "execution_count": 46,
     "metadata": {},
     "output_type": "execute_result"
    }
   ],
   "source": [
    "r_Sqr=model.score(X_train, y_train)\n",
    "r_Sqr"
   ]
  },
  {
   "cell_type": "code",
   "execution_count": 47,
   "metadata": {},
   "outputs": [
    {
     "name": "stdout",
     "output_type": "stream",
     "text": [
      "intercept: [48.28361911]\n"
     ]
    }
   ],
   "source": [
    "print('intercept:', model.intercept_)"
   ]
  },
  {
   "cell_type": "code",
   "execution_count": 48,
   "metadata": {},
   "outputs": [
    {
     "name": "stdout",
     "output_type": "stream",
     "text": [
      "slope: [[ 0.30054523  1.12604946 -0.2179567  -1.43212794  2.04849011  2.50085439\n",
      "   0.55524538  0.34894775  0.70866417 -1.13513274  1.6656348   0.71782312\n",
      "  -0.09286532  0.61199711 -2.61039636  0.74334282 -0.12945369  0.46679336\n",
      "  -2.9952733   4.70769871]]\n"
     ]
    }
   ],
   "source": [
    "print('slope:', model.coef_)"
   ]
  },
  {
   "cell_type": "code",
   "execution_count": 49,
   "metadata": {},
   "outputs": [
    {
     "data": {
      "text/plain": [
       "-0.801619544228924"
      ]
     },
     "execution_count": 49,
     "metadata": {},
     "output_type": "execute_result"
    }
   ],
   "source": [
    "model.score(X_test, y_test)"
   ]
  },
  {
   "cell_type": "code",
   "execution_count": 50,
   "metadata": {},
   "outputs": [
    {
     "data": {
      "text/plain": [
       "<matplotlib.collections.PathCollection at 0x1a1c4ebed0>"
      ]
     },
     "execution_count": 50,
     "metadata": {},
     "output_type": "execute_result"
    },
    {
     "data": {
      "image/png": "[encoded data removed]",
      "text/plain": [
       "<Figure size 432x288 with 1 Axes>"
      ]
     },
     "metadata": {
      "needs_background": "light"
     },
     "output_type": "display_data"
    }
   ],
   "source": [
    "## The line / model\n",
    "plt.scatter(y_test, predictions)\n",
    "# plt.xlabel(“True_Values”)\n",
    "# plt.ylabel(“Predictions”)"
   ]
  },
  {
   "cell_type": "code",
   "execution_count": 51,
   "metadata": {},
   "outputs": [
    {
     "name": "stderr",
     "output_type": "stream",
     "text": [
      "/opt/anaconda3/lib/python3.7/site-packages/ipykernel_launcher.py:3: DataConversionWarning: A column-vector y was passed when a 1d array was expected. Please change the shape of y to (n_samples, ), for example using ravel().\n",
      "  This is separate from the ipykernel package so we can avoid doing imports until\n"
     ]
    },
    {
     "data": {
      "text/plain": [
       "KNeighborsClassifier(algorithm='auto', leaf_size=30, metric='minkowski',\n",
       "                     metric_params=None, n_jobs=None, n_neighbors=5, p=2,\n",
       "                     weights='uniform')"
      ]
     },
     "execution_count": 51,
     "metadata": {},
     "output_type": "execute_result"
    }
   ],
   "source": [
    "from sklearn.neighbors import KNeighborsClassifier\n",
    "classifier = KNeighborsClassifier(n_neighbors=5)\n",
    "classifier.fit(X_train, y_train)"
   ]
  },
  {
   "cell_type": "code",
   "execution_count": 99,
   "metadata": {},
   "outputs": [
    {
     "data": {
      "text/plain": [
       "array([85., 70., 70., 85., 70., 85., 85., 70., 80., 80., 70.])"
      ]
     },
     "execution_count": 99,
     "metadata": {},
     "output_type": "execute_result"
    }
   ],
   "source": [
    "y_pred = classifier.predict(X_test)\n",
    "y_pred\n"
   ]
  },
  {
   "cell_type": "code",
   "execution_count": 53,
   "metadata": {},
   "outputs": [
    {
     "name": "stdout",
     "output_type": "stream",
     "text": [
      "[[0 0 0 0 0]\n",
      " [0 1 1 0 0]\n",
      " [3 1 2 0 0]\n",
      " [0 0 1 0 0]\n",
      " [2 0 0 0 0]]\n",
      "              precision    recall  f1-score   support\n",
      "\n",
      "        70.0       0.00      0.00      0.00         0\n",
      "        80.0       0.50      0.50      0.50         2\n",
      "        85.0       0.50      0.33      0.40         6\n",
      "        95.0       0.00      0.00      0.00         1\n",
      "       100.0       0.00      0.00      0.00         2\n",
      "\n",
      "    accuracy                           0.27        11\n",
      "   macro avg       0.20      0.17      0.18        11\n",
      "weighted avg       0.36      0.27      0.31        11\n",
      "\n"
     ]
    },
    {
     "name": "stderr",
     "output_type": "stream",
     "text": [
      "/opt/anaconda3/lib/python3.7/site-packages/sklearn/metrics/classification.py:1437: UndefinedMetricWarning: Precision and F-score are ill-defined and being set to 0.0 in labels with no predicted samples.\n",
      "  'precision', 'predicted', average, warn_for)\n",
      "/opt/anaconda3/lib/python3.7/site-packages/sklearn/metrics/classification.py:1439: UndefinedMetricWarning: Recall and F-score are ill-defined and being set to 0.0 in labels with no true samples.\n",
      "  'recall', 'true', average, warn_for)\n"
     ]
    }
   ],
   "source": [
    "from sklearn.metrics import classification_report, confusion_matrix\n",
    "print(confusion_matrix(y_test, y_pred))\n",
    "print(classification_report(y_test, y_pred))"
   ]
  },
  {
   "cell_type": "code",
   "execution_count": 54,
   "metadata": {},
   "outputs": [
    {
     "data": {
      "text/plain": [
       "0.1233428729697282"
      ]
     },
     "execution_count": 54,
     "metadata": {},
     "output_type": "execute_result"
    }
   ],
   "source": [
    "df[\"Total Profit\"].corr(df[\"P10\"])"
   ]
  },
  {
   "cell_type": "code",
   "execution_count": 55,
   "metadata": {},
   "outputs": [
    {
     "name": "stdout",
     "output_type": "stream",
     "text": [
      "85     10\n",
      "80      9\n",
      "65      8\n",
      "75      7\n",
      "70      6\n",
      "90      5\n",
      "60      3\n",
      "95      2\n",
      "55      1\n",
      "50      1\n",
      "100     1\n",
      "Name: Product Profit, dtype: int64\n"
     ]
    }
   ],
   "source": [
    "print(df[\"Product Profit\"].value_counts())\n"
   ]
  },
  {
   "cell_type": "code",
   "execution_count": 56,
   "metadata": {},
   "outputs": [
    {
     "data": {
      "text/plain": [
       "Ttest_relResult(statistic=8.382192750681739, pvalue=3.183867487116931e-11)"
      ]
     },
     "execution_count": 56,
     "metadata": {},
     "output_type": "execute_result"
    }
   ],
   "source": [
    "import scipy.stats as stat\n",
    "\n",
    "stat.shapiro(df.P1)\n",
    "stat.shapiro(df.P3)\n",
    "stat.ttest_rel(df.P1,df.P4)"
   ]
  },
  {
   "cell_type": "code",
   "execution_count": 57,
   "metadata": {},
   "outputs": [],
   "source": [
    "df.rename(columns={'Total Profit':'Total_Profit'}, inplace=True)\n",
    "df.rename(columns={'Product Profit':'Product_Profit'}, inplace=True)"
   ]
  },
  {
   "cell_type": "code",
   "execution_count": 58,
   "metadata": {
    "scrolled": false
   },
   "outputs": [
    {
     "name": "stderr",
     "output_type": "stream",
     "text": [
      "/opt/anaconda3/lib/python3.7/site-packages/ipykernel_launcher.py:1: MatplotlibDeprecationWarning: \n",
      "The 'normed' kwarg was deprecated in Matplotlib 2.1 and will be removed in 3.1. Use 'density' instead.\n",
      "  \"\"\"Entry point for launching an IPython kernel.\n"
     ]
    },
    {
     "data": {
      "text/plain": [
       "(array([0.01886792, 0.        , 0.        , 0.        , 0.        ,\n",
       "        0.14150943, 0.        , 0.23584906, 0.        , 0.        ,\n",
       "        0.02830189, 0.        , 0.02830189, 0.        , 0.        ,\n",
       "        0.02830189, 0.        , 0.00943396, 0.        , 0.00943396]),\n",
       " array([ 70.,  72.,  74.,  76.,  78.,  80.,  82.,  84.,  86.,  88.,  90.,\n",
       "         92.,  94.,  96.,  98., 100., 102., 104., 106., 108., 110.]),\n",
       " <a list of 20 Patch objects>)"
      ]
     },
     "execution_count": 58,
     "metadata": {},
     "output_type": "execute_result"
    },
    {
     "data": {
      "image/png": "[encoded data removed]",
      "text/plain": [
       "<Figure size 432x288 with 1 Axes>"
      ]
     },
     "metadata": {
      "needs_background": "light"
     },
     "output_type": "display_data"
    }
   ],
   "source": [
    "plt.hist(df.Total_Profit,20 ,normed=True)"
   ]
  },
  {
   "cell_type": "code",
   "execution_count": 59,
   "metadata": {},
   "outputs": [
    {
     "name": "stderr",
     "output_type": "stream",
     "text": [
      "/opt/anaconda3/lib/python3.7/site-packages/ipykernel_launcher.py:1: MatplotlibDeprecationWarning: \n",
      "The 'normed' kwarg was deprecated in Matplotlib 2.1 and will be removed in 3.1. Use 'density' instead.\n",
      "  \"\"\"Entry point for launching an IPython kernel.\n"
     ]
    },
    {
     "data": {
      "text/plain": [
       "(array([0.01132075, 0.        , 0.        , 0.01132075, 0.        ,\n",
       "        0.        , 0.03396226, 0.        , 0.        , 0.09056604,\n",
       "        0.        , 0.        , 0.06792453, 0.        , 0.        ,\n",
       "        0.07924528, 0.        , 0.        , 0.10188679, 0.        ,\n",
       "        0.        , 0.11320755, 0.        , 0.        , 0.05660377,\n",
       "        0.        , 0.        , 0.02264151, 0.        , 0.01132075]),\n",
       " array([ 50.        ,  51.66666667,  53.33333333,  55.        ,\n",
       "         56.66666667,  58.33333333,  60.        ,  61.66666667,\n",
       "         63.33333333,  65.        ,  66.66666667,  68.33333333,\n",
       "         70.        ,  71.66666667,  73.33333333,  75.        ,\n",
       "         76.66666667,  78.33333333,  80.        ,  81.66666667,\n",
       "         83.33333333,  85.        ,  86.66666667,  88.33333333,\n",
       "         90.        ,  91.66666667,  93.33333333,  95.        ,\n",
       "         96.66666667,  98.33333333, 100.        ]),\n",
       " <a list of 30 Patch objects>)"
      ]
     },
     "execution_count": 59,
     "metadata": {},
     "output_type": "execute_result"
    },
    {
     "data": {
      "image/png": "[encoded data removed]",
      "text/plain": [
       "<Figure size 432x288 with 1 Axes>"
      ]
     },
     "metadata": {
      "needs_background": "light"
     },
     "output_type": "display_data"
    }
   ],
   "source": [
    "plt.hist(df.Product_Profit, 30 ,normed=True)"
   ]
  },
  {
   "cell_type": "code",
   "execution_count": 60,
   "metadata": {},
   "outputs": [
    {
     "data": {
      "text/plain": [
       "(0.8301184773445129, 2.7398739348427625e-06)"
      ]
     },
     "execution_count": 60,
     "metadata": {},
     "output_type": "execute_result"
    }
   ],
   "source": [
    "import scipy.stats as stat\n",
    "stat.shapiro(df.Total_Profit)\n"
   ]
  },
  {
   "cell_type": "code",
   "execution_count": 61,
   "metadata": {},
   "outputs": [
    {
     "data": {
      "text/plain": [
       "(0.9724574089050293, 0.2571439743041992)"
      ]
     },
     "execution_count": 61,
     "metadata": {},
     "output_type": "execute_result"
    }
   ],
   "source": [
    "stat.shapiro(df.Product_Profit)\n"
   ]
  },
  {
   "cell_type": "code",
   "execution_count": 62,
   "metadata": {},
   "outputs": [
    {
     "data": {
      "text/plain": [
       "85.0     25\n",
       "80.0     15\n",
       "100.0     3\n",
       "95.0      3\n",
       "90.0      3\n",
       "70.0      2\n",
       "110.0     1\n",
       "105.0     1\n",
       "Name: Total_Profit, dtype: int64"
      ]
     },
     "execution_count": 62,
     "metadata": {},
     "output_type": "execute_result"
    }
   ],
   "source": [
    "m=df['Total_Profit'].value_counts()\n",
    "m"
   ]
  },
  {
   "cell_type": "code",
   "execution_count": 63,
   "metadata": {},
   "outputs": [
    {
     "ename": "NameError",
     "evalue": "name 'b' is not defined",
     "output_type": "error",
     "traceback": [
      "\u001b[0;31m---------------------------------------------------------------------------\u001b[0m",
      "\u001b[0;31mNameError\u001b[0m                                 Traceback (most recent call last)",
      "\u001b[0;32m<ipython-input-63-64450d6dde5c>\u001b[0m in \u001b[0;36m<module>\u001b[0;34m\u001b[0m\n\u001b[1;32m      9\u001b[0m \u001b[0;31m# performance = [10,8,6,4,2,1]\u001b[0m\u001b[0;34m\u001b[0m\u001b[0;34m\u001b[0m\u001b[0;34m\u001b[0m\u001b[0m\n\u001b[1;32m     10\u001b[0m \u001b[0;34m\u001b[0m\u001b[0m\n\u001b[0;32m---> 11\u001b[0;31m \u001b[0mplt\u001b[0m\u001b[0;34m.\u001b[0m\u001b[0mbar\u001b[0m\u001b[0;34m(\u001b[0m\u001b[0mb\u001b[0m\u001b[0;34m,\u001b[0m\u001b[0mn\u001b[0m \u001b[0;34m,\u001b[0m \u001b[0malpha\u001b[0m\u001b[0;34m=\u001b[0m\u001b[0;36m0.5\u001b[0m\u001b[0;34m)\u001b[0m\u001b[0;34m\u001b[0m\u001b[0;34m\u001b[0m\u001b[0m\n\u001b[0m\u001b[1;32m     12\u001b[0m \u001b[0mplt\u001b[0m\u001b[0;34m.\u001b[0m\u001b[0mxticks\u001b[0m\u001b[0;34m(\u001b[0m\u001b[0mn\u001b[0m\u001b[0;34m,\u001b[0m\u001b[0mb\u001b[0m\u001b[0;34m)\u001b[0m\u001b[0;34m\u001b[0m\u001b[0;34m\u001b[0m\u001b[0m\n\u001b[1;32m     13\u001b[0m \u001b[0;31m# plt.ylabel('Usage')\u001b[0m\u001b[0;34m\u001b[0m\u001b[0;34m\u001b[0m\u001b[0;34m\u001b[0m\u001b[0m\n",
      "\u001b[0;31mNameError\u001b[0m: name 'b' is not defined"
     ]
    }
   ],
   "source": [
    "\n",
    "\n",
    "# plt.bar(df['Total_Profit'].value_counts(),df.Total_Product  align='center', alpha=0.5)\n",
    "\n",
    "import matplotlib.pyplot as plt; plt.rcdefaults()\n",
    "import numpy as np\n",
    "import matplotlib.pyplot as plt\n",
    "\n",
    "# objects = ('Python', 'C++', 'Java', 'Perl', 'Scala', 'Lisp')\n",
    "y_pos = np.arange(len(m))\n",
    "# performance = [10,8,6,4,2,1]\n",
    "\n",
    "plt.bar(b,n , alpha=0.5)\n",
    "plt.xticks(n,b)\n",
    "# plt.ylabel('Usage')\n",
    "# plt.title('Programming language usage')\n",
    "\n",
    "plt.show()"
   ]
  },
  {
   "cell_type": "code",
   "execution_count": 64,
   "metadata": {},
   "outputs": [
    {
     "data": {
      "text/plain": [
       "[85.0,\n",
       " 85.0,\n",
       " 80.0,\n",
       " 85.0,\n",
       " 80.0,\n",
       " 80.0,\n",
       " 80.0,\n",
       " 85.0,\n",
       " 80.0,\n",
       " 80.0,\n",
       " 80.0,\n",
       " 80.0,\n",
       " 80.0,\n",
       " 90.0,\n",
       " 90.0,\n",
       " 70.0,\n",
       " 85.0,\n",
       " 85.0,\n",
       " 70.0,\n",
       " 85.0,\n",
       " 85.0,\n",
       " 80.0,\n",
       " 95.0,\n",
       " 85.0,\n",
       " 95.0,\n",
       " 100.0,\n",
       " 100.0,\n",
       " 80.0,\n",
       " 100.0,\n",
       " 85.0,\n",
       " 90.0,\n",
       " 105.0,\n",
       " 80.0,\n",
       " 85.0,\n",
       " 85.0,\n",
       " 85.0,\n",
       " 85.0,\n",
       " 85.0,\n",
       " 110.0,\n",
       " 85.0,\n",
       " 85.0,\n",
       " 85.0,\n",
       " 85.0,\n",
       " 80.0,\n",
       " 85.0,\n",
       " 85.0,\n",
       " 80.0,\n",
       " 85.0,\n",
       " 85.0,\n",
       " 80.0,\n",
       " 85.0,\n",
       " 85.0,\n",
       " 95.0]"
      ]
     },
     "execution_count": 64,
     "metadata": {},
     "output_type": "execute_result"
    }
   ],
   "source": [
    "n=list(df.Total_Profit)\n",
    "n"
   ]
  },
  {
   "cell_type": "code",
   "execution_count": 65,
   "metadata": {},
   "outputs": [],
   "source": [
    "a=df['Total_Profit'].value_counts()"
   ]
  },
  {
   "cell_type": "code",
   "execution_count": 66,
   "metadata": {},
   "outputs": [
    {
     "data": {
      "text/plain": [
       "Float64Index([85.0, 80.0, 100.0, 95.0, 90.0, 70.0, 110.0, 105.0], dtype='float64')"
      ]
     },
     "execution_count": 66,
     "metadata": {},
     "output_type": "execute_result"
    }
   ],
   "source": [
    "b=a.index\n",
    "b"
   ]
  },
  {
   "cell_type": "code",
   "execution_count": 67,
   "metadata": {},
   "outputs": [
    {
     "ename": "AttributeError",
     "evalue": "'Series' object has no attribute 'Total_Profit'",
     "output_type": "error",
     "traceback": [
      "\u001b[0;31m---------------------------------------------------------------------------\u001b[0m",
      "\u001b[0;31mAttributeError\u001b[0m                            Traceback (most recent call last)",
      "\u001b[0;32m<ipython-input-67-96d6740767c0>\u001b[0m in \u001b[0;36m<module>\u001b[0;34m\u001b[0m\n\u001b[0;32m----> 1\u001b[0;31m \u001b[0max\u001b[0m \u001b[0;34m=\u001b[0m \u001b[0mdf\u001b[0m\u001b[0;34m.\u001b[0m\u001b[0mplot\u001b[0m\u001b[0;34m.\u001b[0m\u001b[0mbar\u001b[0m\u001b[0;34m(\u001b[0m\u001b[0my\u001b[0m\u001b[0;34m=\u001b[0m\u001b[0mm\u001b[0m\u001b[0;34m.\u001b[0m\u001b[0mTotal_Profit\u001b[0m\u001b[0;34m,\u001b[0m \u001b[0mx\u001b[0m\u001b[0;34m=\u001b[0m\u001b[0mb\u001b[0m\u001b[0;34m)\u001b[0m\u001b[0;34m\u001b[0m\u001b[0;34m\u001b[0m\u001b[0m\n\u001b[0m",
      "\u001b[0;32m/opt/anaconda3/lib/python3.7/site-packages/pandas/core/generic.py\u001b[0m in \u001b[0;36m__getattr__\u001b[0;34m(self, name)\u001b[0m\n\u001b[1;32m   5177\u001b[0m             \u001b[0;32mif\u001b[0m \u001b[0mself\u001b[0m\u001b[0;34m.\u001b[0m\u001b[0m_info_axis\u001b[0m\u001b[0;34m.\u001b[0m\u001b[0m_can_hold_identifiers_and_holds_name\u001b[0m\u001b[0;34m(\u001b[0m\u001b[0mname\u001b[0m\u001b[0;34m)\u001b[0m\u001b[0;34m:\u001b[0m\u001b[0;34m\u001b[0m\u001b[0;34m\u001b[0m\u001b[0m\n\u001b[1;32m   5178\u001b[0m                 \u001b[0;32mreturn\u001b[0m \u001b[0mself\u001b[0m\u001b[0;34m[\u001b[0m\u001b[0mname\u001b[0m\u001b[0;34m]\u001b[0m\u001b[0;34m\u001b[0m\u001b[0;34m\u001b[0m\u001b[0m\n\u001b[0;32m-> 5179\u001b[0;31m             \u001b[0;32mreturn\u001b[0m \u001b[0mobject\u001b[0m\u001b[0;34m.\u001b[0m\u001b[0m__getattribute__\u001b[0m\u001b[0;34m(\u001b[0m\u001b[0mself\u001b[0m\u001b[0;34m,\u001b[0m \u001b[0mname\u001b[0m\u001b[0;34m)\u001b[0m\u001b[0;34m\u001b[0m\u001b[0;34m\u001b[0m\u001b[0m\n\u001b[0m\u001b[1;32m   5180\u001b[0m \u001b[0;34m\u001b[0m\u001b[0m\n\u001b[1;32m   5181\u001b[0m     \u001b[0;32mdef\u001b[0m \u001b[0m__setattr__\u001b[0m\u001b[0;34m(\u001b[0m\u001b[0mself\u001b[0m\u001b[0;34m,\u001b[0m \u001b[0mname\u001b[0m\u001b[0;34m,\u001b[0m \u001b[0mvalue\u001b[0m\u001b[0;34m)\u001b[0m\u001b[0;34m:\u001b[0m\u001b[0;34m\u001b[0m\u001b[0;34m\u001b[0m\u001b[0m\n",
      "\u001b[0;31mAttributeError\u001b[0m: 'Series' object has no attribute 'Total_Profit'"
     ]
    }
   ],
   "source": [
    "ax = df.plot.bar(y=m.Total_Profit, x=b)"
   ]
  },
  {
   "cell_type": "code",
   "execution_count": 68,
   "metadata": {},
   "outputs": [
    {
     "data": {
      "text/html": [
       "<div>\n",
       "<style scoped>\n",
       "    .dataframe tbody tr th:only-of-type {\n",
       "        vertical-align: middle;\n",
       "    }\n",
       "\n",
       "    .dataframe tbody tr th {\n",
       "        vertical-align: top;\n",
       "    }\n",
       "\n",
       "    .dataframe thead th {\n",
       "        text-align: right;\n",
       "    }\n",
       "</style>\n",
       "<table border=\"1\" class=\"dataframe\">\n",
       "  <thead>\n",
       "    <tr style=\"text-align: right;\">\n",
       "      <th></th>\n",
       "      <th>Name Surname</th>\n",
       "      <th>ID</th>\n",
       "      <th>Product_Profit</th>\n",
       "      <th>P1</th>\n",
       "      <th>P2</th>\n",
       "      <th>P3</th>\n",
       "      <th>P4</th>\n",
       "      <th>P5</th>\n",
       "      <th>P6</th>\n",
       "      <th>P7</th>\n",
       "      <th>...</th>\n",
       "      <th>P12</th>\n",
       "      <th>P13</th>\n",
       "      <th>P14</th>\n",
       "      <th>P15</th>\n",
       "      <th>P16</th>\n",
       "      <th>P17</th>\n",
       "      <th>P18</th>\n",
       "      <th>P19</th>\n",
       "      <th>P20</th>\n",
       "      <th>TotalProductSum</th>\n",
       "    </tr>\n",
       "    <tr>\n",
       "      <th>Total_Profit</th>\n",
       "      <th></th>\n",
       "      <th></th>\n",
       "      <th></th>\n",
       "      <th></th>\n",
       "      <th></th>\n",
       "      <th></th>\n",
       "      <th></th>\n",
       "      <th></th>\n",
       "      <th></th>\n",
       "      <th></th>\n",
       "      <th></th>\n",
       "      <th></th>\n",
       "      <th></th>\n",
       "      <th></th>\n",
       "      <th></th>\n",
       "      <th></th>\n",
       "      <th></th>\n",
       "      <th></th>\n",
       "      <th></th>\n",
       "      <th></th>\n",
       "      <th></th>\n",
       "    </tr>\n",
       "  </thead>\n",
       "  <tbody>\n",
       "    <tr>\n",
       "      <td>70.0</td>\n",
       "      <td>2</td>\n",
       "      <td>2</td>\n",
       "      <td>2</td>\n",
       "      <td>2</td>\n",
       "      <td>2</td>\n",
       "      <td>2</td>\n",
       "      <td>2</td>\n",
       "      <td>2</td>\n",
       "      <td>2</td>\n",
       "      <td>2</td>\n",
       "      <td>...</td>\n",
       "      <td>2</td>\n",
       "      <td>2</td>\n",
       "      <td>2</td>\n",
       "      <td>2</td>\n",
       "      <td>2</td>\n",
       "      <td>2</td>\n",
       "      <td>2</td>\n",
       "      <td>2</td>\n",
       "      <td>2</td>\n",
       "      <td>2</td>\n",
       "    </tr>\n",
       "    <tr>\n",
       "      <td>80.0</td>\n",
       "      <td>15</td>\n",
       "      <td>15</td>\n",
       "      <td>15</td>\n",
       "      <td>15</td>\n",
       "      <td>15</td>\n",
       "      <td>15</td>\n",
       "      <td>15</td>\n",
       "      <td>15</td>\n",
       "      <td>15</td>\n",
       "      <td>15</td>\n",
       "      <td>...</td>\n",
       "      <td>15</td>\n",
       "      <td>15</td>\n",
       "      <td>15</td>\n",
       "      <td>15</td>\n",
       "      <td>15</td>\n",
       "      <td>15</td>\n",
       "      <td>15</td>\n",
       "      <td>15</td>\n",
       "      <td>15</td>\n",
       "      <td>15</td>\n",
       "    </tr>\n",
       "    <tr>\n",
       "      <td>85.0</td>\n",
       "      <td>25</td>\n",
       "      <td>25</td>\n",
       "      <td>25</td>\n",
       "      <td>25</td>\n",
       "      <td>25</td>\n",
       "      <td>25</td>\n",
       "      <td>25</td>\n",
       "      <td>25</td>\n",
       "      <td>25</td>\n",
       "      <td>25</td>\n",
       "      <td>...</td>\n",
       "      <td>25</td>\n",
       "      <td>25</td>\n",
       "      <td>25</td>\n",
       "      <td>25</td>\n",
       "      <td>25</td>\n",
       "      <td>25</td>\n",
       "      <td>25</td>\n",
       "      <td>25</td>\n",
       "      <td>25</td>\n",
       "      <td>25</td>\n",
       "    </tr>\n",
       "    <tr>\n",
       "      <td>90.0</td>\n",
       "      <td>3</td>\n",
       "      <td>3</td>\n",
       "      <td>3</td>\n",
       "      <td>3</td>\n",
       "      <td>3</td>\n",
       "      <td>3</td>\n",
       "      <td>3</td>\n",
       "      <td>3</td>\n",
       "      <td>3</td>\n",
       "      <td>3</td>\n",
       "      <td>...</td>\n",
       "      <td>3</td>\n",
       "      <td>3</td>\n",
       "      <td>3</td>\n",
       "      <td>3</td>\n",
       "      <td>3</td>\n",
       "      <td>3</td>\n",
       "      <td>3</td>\n",
       "      <td>3</td>\n",
       "      <td>3</td>\n",
       "      <td>3</td>\n",
       "    </tr>\n",
       "    <tr>\n",
       "      <td>95.0</td>\n",
       "      <td>3</td>\n",
       "      <td>3</td>\n",
       "      <td>3</td>\n",
       "      <td>3</td>\n",
       "      <td>3</td>\n",
       "      <td>3</td>\n",
       "      <td>3</td>\n",
       "      <td>3</td>\n",
       "      <td>3</td>\n",
       "      <td>3</td>\n",
       "      <td>...</td>\n",
       "      <td>3</td>\n",
       "      <td>3</td>\n",
       "      <td>3</td>\n",
       "      <td>3</td>\n",
       "      <td>3</td>\n",
       "      <td>3</td>\n",
       "      <td>3</td>\n",
       "      <td>3</td>\n",
       "      <td>3</td>\n",
       "      <td>3</td>\n",
       "    </tr>\n",
       "  </tbody>\n",
       "</table>\n",
       "<p>5 rows × 24 columns</p>\n",
       "</div>"
      ],
      "text/plain": [
       "              Name Surname  ID  Product_Profit  P1  P2  P3  P4  P5  P6  P7  \\\n",
       "Total_Profit                                                                 \n",
       "70.0                     2   2               2   2   2   2   2   2   2   2   \n",
       "80.0                    15  15              15  15  15  15  15  15  15  15   \n",
       "85.0                    25  25              25  25  25  25  25  25  25  25   \n",
       "90.0                     3   3               3   3   3   3   3   3   3   3   \n",
       "95.0                     3   3               3   3   3   3   3   3   3   3   \n",
       "\n",
       "              ...  P12  P13  P14  P15  P16  P17  P18  P19  P20  \\\n",
       "Total_Profit  ...                                                \n",
       "70.0          ...    2    2    2    2    2    2    2    2    2   \n",
       "80.0          ...   15   15   15   15   15   15   15   15   15   \n",
       "85.0          ...   25   25   25   25   25   25   25   25   25   \n",
       "90.0          ...    3    3    3    3    3    3    3    3    3   \n",
       "95.0          ...    3    3    3    3    3    3    3    3    3   \n",
       "\n",
       "              TotalProductSum  \n",
       "Total_Profit                   \n",
       "70.0                        2  \n",
       "80.0                       15  \n",
       "85.0                       25  \n",
       "90.0                        3  \n",
       "95.0                        3  \n",
       "\n",
       "[5 rows x 24 columns]"
      ]
     },
     "execution_count": 68,
     "metadata": {},
     "output_type": "execute_result"
    }
   ],
   "source": [
    "m=df.groupby('Total_Profit', sort=True).count()\n",
    "m.head()"
   ]
  },
  {
   "cell_type": "code",
   "execution_count": 69,
   "metadata": {},
   "outputs": [
    {
     "data": {
      "text/plain": [
       "<matplotlib.collections.PathCollection at 0x1a1c792210>"
      ]
     },
     "execution_count": 69,
     "metadata": {},
     "output_type": "execute_result"
    },
    {
     "data": {
      "image/png": "[encoded data removed]",
      "text/plain": [
       "<Figure size 640x480 with 1 Axes>"
      ]
     },
     "metadata": {},
     "output_type": "display_data"
    }
   ],
   "source": [
    "# Scatter plot\n",
    "plt.scatter(df.Total_Profit,df.Product_Profit)\n"
   ]
  },
  {
   "cell_type": "code",
   "execution_count": 70,
   "metadata": {},
   "outputs": [
    {
     "data": {
      "text/plain": [
       "<matplotlib.axes._subplots.AxesSubplot at 0x1a1c970bd0>"
      ]
     },
     "execution_count": 70,
     "metadata": {},
     "output_type": "execute_result"
    },
    {
     "data": {
      "image/png": "[encoded data removed]",
      "text/plain": [
       "<Figure size 640x480 with 1 Axes>"
      ]
     },
     "metadata": {},
     "output_type": "display_data"
    }
   ],
   "source": [
    "df.P1.value_counts(normalize=True).plot(kind = \"bar\")"
   ]
  },
  {
   "cell_type": "code",
   "execution_count": 71,
   "metadata": {},
   "outputs": [
    {
     "data": {
      "text/plain": [
       "<matplotlib.axes._subplots.AxesSubplot at 0x1a1cc1ea90>"
      ]
     },
     "execution_count": 71,
     "metadata": {},
     "output_type": "execute_result"
    },
    {
     "data": {
      "image/png": "[encoded data removed]",
      "text/plain": [
       "<Figure size 640x480 with 1 Axes>"
      ]
     },
     "metadata": {},
     "output_type": "display_data"
    }
   ],
   "source": [
    "df.Total_Profit.value_counts(normalize=True).plot(kind = \"bar\")"
   ]
  },
  {
   "cell_type": "code",
   "execution_count": 72,
   "metadata": {},
   "outputs": [
    {
     "data": {
      "text/plain": [
       "<matplotlib.axes._subplots.AxesSubplot at 0x1a1cd8f050>"
      ]
     },
     "execution_count": 72,
     "metadata": {},
     "output_type": "execute_result"
    },
    {
     "data": {
      "image/png": "[encoded data removed]",
      "text/plain": [
       "<Figure size 640x480 with 1 Axes>"
      ]
     },
     "metadata": {},
     "output_type": "display_data"
    }
   ],
   "source": [
    "df.Product_Profit.value_counts(normalize=False).plot(kind = \"bar\")"
   ]
  },
  {
   "cell_type": "code",
   "execution_count": 73,
   "metadata": {},
   "outputs": [
    {
     "data": {
      "text/plain": [
       "Text(0.5, 1.0, 'Total Profit by Product Profit')"
      ]
     },
     "execution_count": 73,
     "metadata": {},
     "output_type": "execute_result"
    },
    {
     "data": {
      "image/png": "[encoded data removed]",
      "text/plain": [
       "<Figure size 640x480 with 1 Axes>"
      ]
     },
     "metadata": {},
     "output_type": "display_data"
    }
   ],
   "source": [
    "plt.scatter(df.Total_Profit,df.Product_Profit)\n",
    "plt.title(\"Total Profit by Product Profit\")"
   ]
  },
  {
   "cell_type": "code",
   "execution_count": 74,
   "metadata": {},
   "outputs": [
    {
     "data": {
      "text/plain": [
       "<matplotlib.axes._subplots.AxesSubplot at 0x1a1d094c50>"
      ]
     },
     "execution_count": 74,
     "metadata": {},
     "output_type": "execute_result"
    },
    {
     "data": {
      "image/png": "[encoded data removed]",
      "text/plain": [
       "<Figure size 640x480 with 1 Axes>"
      ]
     },
     "metadata": {},
     "output_type": "display_data"
    }
   ],
   "source": [
    "df.P1.value_counts(normalize=False).plot(kind = \"bar\")"
   ]
  },
  {
   "cell_type": "code",
   "execution_count": 75,
   "metadata": {},
   "outputs": [
    {
     "ename": "SyntaxError",
     "evalue": "invalid syntax (<ipython-input-75-548a517360a2>, line 1)",
     "output_type": "error",
     "traceback": [
      "\u001b[0;36m  File \u001b[0;32m\"<ipython-input-75-548a517360a2>\"\u001b[0;36m, line \u001b[0;32m1\u001b[0m\n\u001b[0;31m    https://realpython.com/linear-regression-in-python/\u001b[0m\n\u001b[0m           ^\u001b[0m\n\u001b[0;31mSyntaxError\u001b[0m\u001b[0;31m:\u001b[0m invalid syntax\n"
     ]
    }
   ],
   "source": [
    "https://realpython.com/linear-regression-in-python/\n",
    "    "
   ]
  },
  {
   "cell_type": "code",
   "execution_count": 100,
   "metadata": {},
   "outputs": [
    {
     "name": "stderr",
     "output_type": "stream",
     "text": [
      "/opt/anaconda3/lib/python3.7/site-packages/ipykernel_launcher.py:3: DataConversionWarning: A column-vector y was passed when a 1d array was expected. Please change the shape of y to (n_samples, ), for example using ravel().\n",
      "  This is separate from the ipykernel package so we can avoid doing imports until\n"
     ]
    },
    {
     "data": {
      "text/plain": [
       "KNeighborsClassifier(algorithm='auto', leaf_size=30, metric='minkowski',\n",
       "                     metric_params=None, n_jobs=None, n_neighbors=5, p=2,\n",
       "                     weights='uniform')"
      ]
     },
     "execution_count": 100,
     "metadata": {},
     "output_type": "execute_result"
    }
   ],
   "source": [
    "from sklearn.neighbors import KNeighborsClassifier\n",
    "classifier = KNeighborsClassifier(n_neighbors=5)\n",
    "classifier.fit(X_train, y_train)"
   ]
  },
  {
   "cell_type": "code",
   "execution_count": 78,
   "metadata": {},
   "outputs": [
    {
     "data": {
      "text/plain": [
       "array([85., 70., 70., 85., 70., 85., 85., 70., 80., 80., 70.])"
      ]
     },
     "execution_count": 78,
     "metadata": {},
     "output_type": "execute_result"
    }
   ],
   "source": [
    "y_pred = classifier.predict(X_test)\n",
    "y_pred"
   ]
  },
  {
   "cell_type": "code",
   "execution_count": null,
   "metadata": {},
   "outputs": [],
   "source": []
  }
 ],
 "metadata": {
  "kernelspec": {
   "display_name": "Python 3",
   "language": "python",
   "name": "python3"
  },
  "language_info": {
   "codemirror_mode": {
    "name": "ipython",
    "version": 3
   },
   "file_extension": ".py",
   "mimetype": "text/x-python",
   "name": "python",
   "nbconvert_exporter": "python",
   "pygments_lexer": "ipython3",
   "version": "3.7.4"
  }
 },
 "nbformat": 4,
 "nbformat_minor": 2
}
